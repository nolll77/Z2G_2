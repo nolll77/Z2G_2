{
  "nbformat": 4,
  "nbformat_minor": 0,
  "metadata": {
    "kernelspec": {
      "display_name": "Python 3",
      "language": "python",
      "name": "python3"
    },
    "language_info": {
      "codemirror_mode": {
        "name": "ipython",
        "version": 3
      },
      "file_extension": ".py",
      "mimetype": "text/x-python",
      "name": "python",
      "nbconvert_exporter": "python",
      "pygments_lexer": "ipython3",
      "version": "3.7.6"
    },
    "colab": {
      "name": "Jovian-Z2G-protein-classification-one-cycle-Version_2a.ipynb",
      "provenance": []
    }
  },
  "cells": [
    {
      "cell_type": "markdown",
      "metadata": {
        "id": "2psqHNrXq20x",
        "colab_type": "text"
      },
      "source": [
        "https://www.kaggle.com/c/jovian-pytorch-z2g/discussion/163666\n",
        "\n",
        "2(a) Second I used a complex classifier. In this I also replaced the adaptive pooling. (this approach is taken from protein-classification-one-cycle"
      ]
    },
    {
      "cell_type": "code",
      "metadata": {
        "id": "OeoN2oI5qyJ0",
        "colab_type": "code",
        "colab": {}
      },
      "source": [
        "%reload_ext autoreload\n",
        "%autoreload 2\n",
        "%matplotlib inline"
      ],
      "execution_count": null,
      "outputs": []
    },
    {
      "cell_type": "code",
      "metadata": {
        "_cell_guid": "b1076dfc-b9ad-4769-8c92-a6c4dae69d19",
        "_uuid": "8f2839f25d086af736a60e9eeb907d3b93b6e0e5",
        "id": "bUk9H_pJqyJ8",
        "colab_type": "code",
        "colab": {}
      },
      "source": [
        "import matplotlib.pyplot as plt\n",
        "import numpy as np\n",
        "import os\n",
        "import pandas as pd\n",
        "import random\n",
        "from PIL import Image\n",
        "from tqdm.notebook import tqdm\n",
        "\n",
        "import torch\n",
        "import torch.nn as nn\n",
        "import torch.nn.functional as F\n",
        "from torch.utils.data import Dataset, random_split, DataLoader\n",
        "\n",
        "import torchvision.models as models\n",
        "import torchvision.transforms as transforms\n",
        "from torchvision.utils import make_grid"
      ],
      "execution_count": null,
      "outputs": []
    },
    {
      "cell_type": "code",
      "metadata": {
        "_cell_guid": "79c7e3d0-c299-4dcb-8224-4455121ee9b0",
        "_uuid": "d629ff2d2480ee46fbb7e2d37f6b5fab8052498a",
        "id": "z5TOql6xqyKB",
        "colab_type": "code",
        "colab": {}
      },
      "source": [
        "DATA_DIR = '../input/jovian-pytorch-z2g/Human protein atlas/'\n",
        "TRAIN_DIR = DATA_DIR + \"/\" + \"train\"\n",
        "TEST_DIR = DATA_DIR + \"/\" + \"test\"\n",
        "TRAIN_CSV = DATA_DIR +\"/\" + \"train.csv\""
      ],
      "execution_count": null,
      "outputs": []
    },
    {
      "cell_type": "markdown",
      "metadata": {
        "id": "2BySWm0cqyKG",
        "colab_type": "text"
      },
      "source": [
        "# Data Loading and some helper functions"
      ]
    },
    {
      "cell_type": "code",
      "metadata": {
        "id": "HM3L3KXZqyKH",
        "colab_type": "code",
        "colab": {},
        "outputId": "639690b7-bf70-40cc-e4af-1244ff7dbab9"
      },
      "source": [
        "train_df = pd.read_csv(TRAIN_CSV)\n",
        "train_df.head()"
      ],
      "execution_count": null,
      "outputs": [
        {
          "output_type": "execute_result",
          "data": {
            "text/html": [
              "<div>\n",
              "<style scoped>\n",
              "    .dataframe tbody tr th:only-of-type {\n",
              "        vertical-align: middle;\n",
              "    }\n",
              "\n",
              "    .dataframe tbody tr th {\n",
              "        vertical-align: top;\n",
              "    }\n",
              "\n",
              "    .dataframe thead th {\n",
              "        text-align: right;\n",
              "    }\n",
              "</style>\n",
              "<table border=\"1\" class=\"dataframe\">\n",
              "  <thead>\n",
              "    <tr style=\"text-align: right;\">\n",
              "      <th></th>\n",
              "      <th>Image</th>\n",
              "      <th>Label</th>\n",
              "    </tr>\n",
              "  </thead>\n",
              "  <tbody>\n",
              "    <tr>\n",
              "      <th>0</th>\n",
              "      <td>19567</td>\n",
              "      <td>9</td>\n",
              "    </tr>\n",
              "    <tr>\n",
              "      <th>1</th>\n",
              "      <td>29993</td>\n",
              "      <td>6 4</td>\n",
              "    </tr>\n",
              "    <tr>\n",
              "      <th>2</th>\n",
              "      <td>17186</td>\n",
              "      <td>1 4</td>\n",
              "    </tr>\n",
              "    <tr>\n",
              "      <th>3</th>\n",
              "      <td>29600</td>\n",
              "      <td>6 2</td>\n",
              "    </tr>\n",
              "    <tr>\n",
              "      <th>4</th>\n",
              "      <td>701</td>\n",
              "      <td>3 4</td>\n",
              "    </tr>\n",
              "  </tbody>\n",
              "</table>\n",
              "</div>"
            ],
            "text/plain": [
              "   Image Label\n",
              "0  19567     9\n",
              "1  29993   6 4\n",
              "2  17186   1 4\n",
              "3  29600   6 2\n",
              "4    701   3 4"
            ]
          },
          "metadata": {
            "tags": []
          },
          "execution_count": 4
        }
      ]
    },
    {
      "cell_type": "code",
      "metadata": {
        "id": "G-Ubp9DEqyKO",
        "colab_type": "code",
        "colab": {}
      },
      "source": [
        "labels = {\n",
        "    0: 'Mitochondria',\n",
        "    1: 'Nuclear bodies',\n",
        "    2: 'Nucleoli',\n",
        "    3: 'Golgi apparatus',\n",
        "    4: 'Nucleoplasm',\n",
        "    5: 'Nucleoli fibrillar center',\n",
        "    6: 'Cytosol',\n",
        "    7: 'Plasma membrane',\n",
        "    8: 'Centrosome',\n",
        "    9: 'Nuclear speckles'\n",
        "}"
      ],
      "execution_count": null,
      "outputs": []
    },
    {
      "cell_type": "code",
      "metadata": {
        "id": "Y8_WBI_QqyKT",
        "colab_type": "code",
        "colab": {}
      },
      "source": [
        "rev_labels = dict()\n",
        "for key in labels.keys():\n",
        "    rev_labels[labels[key]] = key"
      ],
      "execution_count": null,
      "outputs": []
    },
    {
      "cell_type": "code",
      "metadata": {
        "id": "mJx-4jP8qyKX",
        "colab_type": "code",
        "colab": {},
        "outputId": "05f84473-5829-4ccb-9102-1536d2e45cdd"
      },
      "source": [
        "rev_labels"
      ],
      "execution_count": null,
      "outputs": [
        {
          "output_type": "execute_result",
          "data": {
            "text/plain": [
              "{'Mitochondria': 0,\n",
              " 'Nuclear bodies': 1,\n",
              " 'Nucleoli': 2,\n",
              " 'Golgi apparatus': 3,\n",
              " 'Nucleoplasm': 4,\n",
              " 'Nucleoli fibrillar center': 5,\n",
              " 'Cytosol': 6,\n",
              " 'Plasma membrane': 7,\n",
              " 'Centrosome': 8,\n",
              " 'Nuclear speckles': 9}"
            ]
          },
          "metadata": {
            "tags": []
          },
          "execution_count": 7
        }
      ]
    },
    {
      "cell_type": "code",
      "metadata": {
        "id": "8bs-z5v9qyKd",
        "colab_type": "code",
        "colab": {}
      },
      "source": [
        "def num_to_name(labels):\n",
        "    return [labels[i] for i in labels]"
      ],
      "execution_count": null,
      "outputs": []
    },
    {
      "cell_type": "code",
      "metadata": {
        "id": "Www5gPUYqyKi",
        "colab_type": "code",
        "colab": {}
      },
      "source": [
        "def name_to_num(labels):\n",
        "    return [rev_labels[i] for i in labels]"
      ],
      "execution_count": null,
      "outputs": []
    },
    {
      "cell_type": "code",
      "metadata": {
        "id": "YeWV21N3qyKn",
        "colab_type": "code",
        "colab": {}
      },
      "source": [
        "def set_seed(seed):\n",
        "    random.seed(seed)\n",
        "    os.environ['PYTHONHASHSEED'] = str(seed)\n",
        "    np.random.seed(seed)\n",
        "    torch.manual_seed(seed)\n",
        "    torch.cuda.manual_seed(seed)\n",
        "    torch.backends.cudnn.deterministic = True"
      ],
      "execution_count": null,
      "outputs": []
    },
    {
      "cell_type": "code",
      "metadata": {
        "id": "U1n7YO88qyKu",
        "colab_type": "code",
        "colab": {},
        "outputId": "21393d1c-8e50-4762-a5ac-81621c8a9ac2"
      },
      "source": [
        "device = 'cuda' if torch.cuda.is_available() else 'cpu'\n",
        "device"
      ],
      "execution_count": null,
      "outputs": [
        {
          "output_type": "execute_result",
          "data": {
            "text/plain": [
              "'cuda'"
            ]
          },
          "metadata": {
            "tags": []
          },
          "execution_count": 11
        }
      ]
    },
    {
      "cell_type": "code",
      "metadata": {
        "id": "fz6IaBO8qyKy",
        "colab_type": "code",
        "colab": {}
      },
      "source": [
        "set_seed(17)"
      ],
      "execution_count": null,
      "outputs": []
    },
    {
      "cell_type": "code",
      "metadata": {
        "id": "u2SHPDfLqyK3",
        "colab_type": "code",
        "colab": {}
      },
      "source": [
        "def encode_labels(label):\n",
        "    target = torch.zeros(10)\n",
        "    for l in str(label).split(' '):\n",
        "        target[int(l)] = 1.\n",
        "    return target"
      ],
      "execution_count": null,
      "outputs": []
    },
    {
      "cell_type": "code",
      "metadata": {
        "id": "_R31a3WiqyK7",
        "colab_type": "code",
        "colab": {}
      },
      "source": [
        "def decode_labels(target, thresh=0.5, return_label=False):\n",
        "    result = []\n",
        "    for i, tgt in enumerate(target):\n",
        "        if tgt > thresh:\n",
        "            if return_label:\n",
        "                result.append(str(i) + \":\" + labels[i] + \"/\")\n",
        "            else:\n",
        "                result.append(str(i))\n",
        "            \n",
        "    return result"
      ],
      "execution_count": null,
      "outputs": []
    },
    {
      "cell_type": "markdown",
      "metadata": {
        "id": "g8GRTOdiqyK_",
        "colab_type": "text"
      },
      "source": [
        "# Display Images"
      ]
    },
    {
      "cell_type": "code",
      "metadata": {
        "id": "kS0EuZK9qyK_",
        "colab_type": "code",
        "colab": {}
      },
      "source": [
        "class UnNormalize(object):\n",
        "    def __init__(self, mean, std):\n",
        "        self.mean = mean\n",
        "        self.std = std\n",
        "\n",
        "    def __call__(self, tensor):\n",
        "        \"\"\"\n",
        "        Args:\n",
        "            tensor (Tensor): Tensor image of size (C, H, W) to be normalized.\n",
        "        Returns:\n",
        "            Tensor: Normalized image.\n",
        "        \"\"\"\n",
        "        for t, m, s in zip(tensor, self.mean, self.std):\n",
        "            t.mul_(s).add_(m)\n",
        "        return tensor"
      ],
      "execution_count": null,
      "outputs": []
    },
    {
      "cell_type": "code",
      "metadata": {
        "id": "f6f7o-qfqyLD",
        "colab_type": "code",
        "colab": {}
      },
      "source": [
        "def display_img(img, label=None, unnorm=False, unnorm_obj=None, invert=True, return_label=True):\n",
        "    if unnorm and unnorm_obj != None:\n",
        "        img = unnorm_obj(img)\n",
        "    \n",
        "    if invert:\n",
        "        plt.imshow(1 - img.permute((1, 2, 0)))\n",
        "    else:\n",
        "        plt.imshow(img.permute(1, 2, 0))\n",
        "    \n",
        "    if label != None:\n",
        "        plt.title(decode_labels(label, return_label=return_label))"
      ],
      "execution_count": null,
      "outputs": []
    },
    {
      "cell_type": "code",
      "metadata": {
        "id": "bL5Tzd0NqyLH",
        "colab_type": "code",
        "colab": {}
      },
      "source": [
        "def display_batch(batch, unnorm=False, unnorm_obj=None, invert=True):    \n",
        "    imgs, labels = batch\n",
        "    \n",
        "    if unnorm and unnorm_obj:\n",
        "        unnorm_imgs = []\n",
        "        for img in imgs:\n",
        "            if invert:\n",
        "                unnorm_imgs.append(1 - unnorm_obj(img))\n",
        "            else:\n",
        "                unnorm_imgs.append(unnorm_obj(img))\n",
        "        imgs = unnorm_imgs\n",
        "    else:\n",
        "        if invert:\n",
        "            imgs = 1 - imgs\n",
        "    \n",
        "    ig, ax = plt.subplots(figsize=(16, 8))\n",
        "    ax.set_xticks([]); ax.set_yticks([])\n",
        "    ax.imshow(make_grid(imgs, nrow=16).permute(1, 2, 0))"
      ],
      "execution_count": null,
      "outputs": []
    },
    {
      "cell_type": "markdown",
      "metadata": {
        "id": "u6OW5QPGqyLL",
        "colab_type": "text"
      },
      "source": [
        "# Dataset"
      ]
    },
    {
      "cell_type": "code",
      "metadata": {
        "id": "0-L_ddmyqyLN",
        "colab_type": "code",
        "colab": {}
      },
      "source": [
        "class ProteinDataset(nn.Module):\n",
        "    def __init__(self, root_dir, label_df, transforms=None):\n",
        "        assert(os.path.exists(root_dir))\n",
        "        self.root_dir = root_dir\n",
        "        self.label_df = label_df\n",
        "        self.transforms = transforms\n",
        "        \n",
        "    def __len__(self):\n",
        "        return len(self.label_df)\n",
        "    \n",
        "    def __getitem__(self, idx):\n",
        "        row = self.label_df.loc[idx]\n",
        "        img_id, label = row['Image'], row['Label']\n",
        "        img = Image.open(self.root_dir + \"/\" + str(img_id) + \".png\")\n",
        "        if self.transforms:\n",
        "            img = self.transforms(img)\n",
        "        return img, encode_labels(label)"
      ],
      "execution_count": null,
      "outputs": []
    },
    {
      "cell_type": "code",
      "metadata": {
        "id": "k1Y3U-hGqyLS",
        "colab_type": "code",
        "colab": {},
        "outputId": "a95bb85b-b4d6-4cf4-ff46-c65d874a7909"
      },
      "source": [
        "'''\n",
        "This code can be used to get mean and std of dataset\n",
        "\n",
        "mean = 0.\n",
        "std = 0.\n",
        "nb_samples = 0.\n",
        "for imgs, _ in loader:\n",
        "    batch_samples = imgs.size(0)\n",
        "    imgs = imgs.view(batch_samples, imgs.size(1), -1)\n",
        "    mean += imgs.mean(2).sum(0)\n",
        "    std += imgs.std(2).sum(0)\n",
        "    nb_samples += batch_samples\n",
        "\n",
        "mean /= nb_samples\n",
        "std /= nb_samples\n",
        "'''"
      ],
      "execution_count": null,
      "outputs": [
        {
          "output_type": "execute_result",
          "data": {
            "text/plain": [
              "'\\nThis code can be used to get mean and std of dataset\\n\\nmean = 0.\\nstd = 0.\\nnb_samples = 0.\\nfor imgs, _ in loader:\\n    batch_samples = imgs.size(0)\\n    imgs = imgs.view(batch_samples, imgs.size(1), -1)\\n    mean += imgs.mean(2).sum(0)\\n    std += imgs.std(2).sum(0)\\n    nb_samples += batch_samples\\n\\nmean /= nb_samples\\nstd /= nb_samples\\n'"
            ]
          },
          "metadata": {
            "tags": []
          },
          "execution_count": 19
        }
      ]
    },
    {
      "cell_type": "code",
      "metadata": {
        "id": "RTuEZRMbqyLW",
        "colab_type": "code",
        "colab": {}
      },
      "source": [
        "mean = [0.0793, 0.0530, 0.0545]\n",
        "std = [0.1290, 0.0886, 0.1376]"
      ],
      "execution_count": null,
      "outputs": []
    },
    {
      "cell_type": "code",
      "metadata": {
        "id": "jROt-BRHqyLa",
        "colab_type": "code",
        "colab": {}
      },
      "source": [
        "normalize = transforms.Normalize(mean=mean, std=std)\n",
        "\n",
        "train_tf = transforms.Compose([\n",
        "    transforms.RandomCrop(512, padding=8, padding_mode='symmetric'),\n",
        "    transforms.RandomHorizontalFlip(), \n",
        "    transforms.RandomRotation(10),\n",
        "    transforms.ToTensor(),\n",
        "    normalize,\n",
        "    transforms.RandomErasing(inplace=True)\n",
        "])\n",
        "\n",
        "test_tf = transforms.Compose([\n",
        "    transforms.RandomCrop(512, padding=8, padding_mode='symmetric'),\n",
        "    transforms.ToTensor(),\n",
        "    normalize\n",
        "])"
      ],
      "execution_count": null,
      "outputs": []
    },
    {
      "cell_type": "code",
      "metadata": {
        "id": "nVARZHD3qyLe",
        "colab_type": "code",
        "colab": {}
      },
      "source": [
        "val_pct = 0.1"
      ],
      "execution_count": null,
      "outputs": []
    },
    {
      "cell_type": "code",
      "metadata": {
        "id": "TXa-Ys2GqyLi",
        "colab_type": "code",
        "colab": {}
      },
      "source": [
        "msk = np.random.rand(len(train_df)) < (1- val_pct)"
      ],
      "execution_count": null,
      "outputs": []
    },
    {
      "cell_type": "code",
      "metadata": {
        "id": "4YcUn00UqyLo",
        "colab_type": "code",
        "colab": {}
      },
      "source": [
        "train_split_df = train_df[msk].reset_index()\n",
        "val_split_df = train_df[~msk].reset_index()"
      ],
      "execution_count": null,
      "outputs": []
    },
    {
      "cell_type": "code",
      "metadata": {
        "id": "sdm2YHhnqyLs",
        "colab_type": "code",
        "colab": {},
        "outputId": "d83a91aa-f103-4179-b471-d088f70e59da"
      },
      "source": [
        "len(train_split_df), len(val_split_df)"
      ],
      "execution_count": null,
      "outputs": [
        {
          "output_type": "execute_result",
          "data": {
            "text/plain": [
              "(17444, 1792)"
            ]
          },
          "metadata": {
            "tags": []
          },
          "execution_count": 25
        }
      ]
    },
    {
      "cell_type": "code",
      "metadata": {
        "id": "LFfiNeDjqyLz",
        "colab_type": "code",
        "colab": {}
      },
      "source": [
        "train_ds = ProteinDataset(TRAIN_DIR, train_split_df, train_tf)\n",
        "valid_ds = ProteinDataset(TRAIN_DIR, val_split_df, test_tf)"
      ],
      "execution_count": null,
      "outputs": []
    },
    {
      "cell_type": "code",
      "metadata": {
        "id": "S-ug0aPeqyL3",
        "colab_type": "code",
        "colab": {}
      },
      "source": [
        "bs = 32"
      ],
      "execution_count": null,
      "outputs": []
    },
    {
      "cell_type": "code",
      "metadata": {
        "id": "vmAtoixGqyL7",
        "colab_type": "code",
        "colab": {}
      },
      "source": [
        "train_loader = DataLoader(train_ds, bs, shuffle=True, num_workers=4, pin_memory=True)\n",
        "valid_loader = DataLoader(valid_ds, bs, num_workers=4, pin_memory=True)"
      ],
      "execution_count": null,
      "outputs": []
    },
    {
      "cell_type": "code",
      "metadata": {
        "id": "9h2fOpaWqyL_",
        "colab_type": "code",
        "colab": {}
      },
      "source": [
        "img, label = train_ds[0]"
      ],
      "execution_count": null,
      "outputs": []
    },
    {
      "cell_type": "code",
      "metadata": {
        "id": "4TwL9-VxqyMD",
        "colab_type": "code",
        "colab": {},
        "outputId": "de480a29-8a36-4c5d-9e14-e592e3ddd2ab"
      },
      "source": [
        "display_img(img, label)"
      ],
      "execution_count": null,
      "outputs": [
        {
          "output_type": "display_data",
          "data": {
            "image/png": "[encoded data removed]",
            "text/plain": [
              "<Figure size 432x288 with 1 Axes>"
            ]
          },
          "metadata": {
            "tags": [],
            "needs_background": "light"
          }
        }
      ]
    },
    {
      "cell_type": "code",
      "metadata": {
        "id": "rd3tuhSwqyMM",
        "colab_type": "code",
        "colab": {}
      },
      "source": [
        "unnorm = UnNormalize(mean, std)"
      ],
      "execution_count": null,
      "outputs": []
    },
    {
      "cell_type": "code",
      "metadata": {
        "id": "XDFS6uJKqyMQ",
        "colab_type": "code",
        "colab": {},
        "outputId": "0599187a-59dc-4c11-c0fe-dc773a9628c9"
      },
      "source": [
        "display_img(img, label, unnorm=True, unnorm_obj=unnorm)"
      ],
      "execution_count": null,
      "outputs": [
        {
          "output_type": "display_data",
          "data": {
            "image/png": "[encoded data removed]",
            "text/plain": [
              "<Figure size 432x288 with 1 Axes>"
            ]
          },
          "metadata": {
            "tags": [],
            "needs_background": "light"
          }
        }
      ]
    },
    {
      "cell_type": "code",
      "metadata": {
        "id": "lvlyDlRQqyMU",
        "colab_type": "code",
        "colab": {}
      },
      "source": [
        "batch = next(iter(train_loader))"
      ],
      "execution_count": null,
      "outputs": []
    },
    {
      "cell_type": "code",
      "metadata": {
        "id": "KgTctprxqyMX",
        "colab_type": "code",
        "colab": {},
        "outputId": "1506aa26-aa28-4c1c-b40b-cd675281866e"
      },
      "source": [
        "display_batch(batch)"
      ],
      "execution_count": null,
      "outputs": [
        {
          "output_type": "display_data",
          "data": {
            "image/png": "[encoded data removed]",
            "text/plain": [
              "<Figure size 1152x576 with 1 Axes>"
            ]
          },
          "metadata": {
            "tags": []
          }
        }
      ]
    },
    {
      "cell_type": "markdown",
      "metadata": {
        "id": "TVtg774wqyMb",
        "colab_type": "text"
      },
      "source": [
        "# F1 Score/Stats Function"
      ]
    },
    {
      "cell_type": "code",
      "metadata": {
        "id": "svP_kuB9qyMb",
        "colab_type": "code",
        "colab": {}
      },
      "source": [
        "def F_score(output, label, threshold=0.5, beta=1):\n",
        "    prob = output > threshold\n",
        "    label = label > threshold\n",
        "\n",
        "    TP = (prob & label).sum(1).float()\n",
        "    TN = ((~prob) & (~label)).sum(1).float()\n",
        "    FP = (prob & (~label)).sum(1).float()\n",
        "    FN = ((~prob) & label).sum(1).float()\n",
        "\n",
        "    precision = torch.mean(TP / (TP + FP + 1e-15))\n",
        "    recall = torch.mean(TP / (TP + FN + 1e-15))\n",
        "    F2 = (1 + beta**2) * precision * recall / (beta**2 * precision + recall + 1e-15)\n",
        "    return F2.mean(0)"
      ],
      "execution_count": null,
      "outputs": []
    },
    {
      "cell_type": "code",
      "metadata": {
        "id": "KL2FJAHWqyMf",
        "colab_type": "code",
        "colab": {}
      },
      "source": [
        "class AvgStats(object):\n",
        "    def __init__(self):\n",
        "        self.reset()\n",
        "        \n",
        "    def reset(self):\n",
        "        self.losses =[]\n",
        "        self.F1 =[]\n",
        "        self.its = []\n",
        "        \n",
        "    def append(self, loss, F1, it):\n",
        "        self.losses.append(loss)\n",
        "        self.F1.append(F1)\n",
        "        self.its.append(it)"
      ],
      "execution_count": null,
      "outputs": []
    },
    {
      "cell_type": "markdown",
      "metadata": {
        "id": "J8jOD0WrqyMk",
        "colab_type": "text"
      },
      "source": [
        "# CLR\n",
        "\n",
        "(Github: https://github.com/nachiket273/One_Cycle_Policy)"
      ]
    },
    {
      "cell_type": "code",
      "metadata": {
        "id": "OpWjPlDvqyMl",
        "colab_type": "code",
        "colab": {}
      },
      "source": [
        "import math\n",
        "\n",
        "\n",
        "class CLR(object):\n",
        "    def __init__(self, optim, bn, base_lr=1e-7, max_lr=100):\n",
        "        self.base_lr = base_lr\n",
        "        self.max_lr = max_lr\n",
        "        self.optim = optim\n",
        "        self.bn = bn - 1\n",
        "        ratio = self.max_lr/self.base_lr\n",
        "        self.mult = ratio ** (1/self.bn)\n",
        "        self.best_loss = 1e9\n",
        "        self.iteration = 0\n",
        "        self.lrs = []\n",
        "        self.losses = []\n",
        "        \n",
        "    def calc_lr(self, loss):\n",
        "        self.iteration +=1\n",
        "        if math.isnan(loss) or loss > 4 * self.best_loss:\n",
        "            return -1\n",
        "        if loss < self.best_loss and self.iteration > 1:\n",
        "            self.best_loss = loss\n",
        "            \n",
        "        mult = self.mult ** self.iteration\n",
        "        lr = self.base_lr * mult\n",
        "        \n",
        "        self.lrs.append(lr)\n",
        "        self.losses.append(loss)\n",
        "        \n",
        "        return lr\n",
        "        \n",
        "    def plot(self, start=10, end=-5):\n",
        "        plt.xlabel(\"Learning Rate\")\n",
        "        plt.ylabel(\"Losses\")\n",
        "        plt.plot(self.lrs[start:end], self.losses[start:end])\n",
        "        plt.xscale('log')\n",
        "        \n",
        "        \n",
        "    def plot_lr(self):\n",
        "        plt.xlabel(\"Iterations\")\n",
        "        plt.ylabel(\"Learning Rate\")\n",
        "        plt.plot(self.lrs)\n",
        "        plt.yscale('log')"
      ],
      "execution_count": null,
      "outputs": []
    },
    {
      "cell_type": "markdown",
      "metadata": {
        "id": "JM8CehhnqyMp",
        "colab_type": "text"
      },
      "source": [
        "# One Cycle Policy\n",
        "\n",
        "(Github: https://github.com/nachiket273/One_Cycle_Policy)"
      ]
    },
    {
      "cell_type": "code",
      "metadata": {
        "id": "IRKs5mTuqyMq",
        "colab_type": "code",
        "colab": {}
      },
      "source": [
        "class OneCycle(object):\n",
        "    def __init__(self, nb, max_lr, momentum_vals=(0.95, 0.85), prcnt= 10, div=10, use_cosine=False):\n",
        "        self.nb = nb\n",
        "        self.div = div\n",
        "        self.high_lr = max_lr\n",
        "        self.low_mom = momentum_vals[1]\n",
        "        self.high_mom = momentum_vals[0]\n",
        "        self.use_cosine = use_cosine\n",
        "        if self.use_cosine:\n",
        "            self.prcnt = 0\n",
        "        else:\n",
        "            self.prcnt = prcnt\n",
        "        self.iteration = 0\n",
        "        self.lrs = []\n",
        "        self.moms = []\n",
        "        if self.use_cosine:\n",
        "            self.step_len =  int(self.nb / 4)\n",
        "        else:\n",
        "            self.step_len =  int(self.nb * (1- prcnt/100)/2)\n",
        "        \n",
        "    def calc(self):\n",
        "        if self.use_cosine:\n",
        "            lr = self.calc_lr_cosine()\n",
        "            mom = self.calc_mom_cosine()\n",
        "        else:\n",
        "            lr = self.calc_lr()\n",
        "            mom = self.calc_mom()\n",
        "        self.iteration += 1\n",
        "        return (lr, mom)\n",
        "        \n",
        "    def calc_lr(self):\n",
        "        if self.iteration ==  0:\n",
        "            self.lrs.append(self.high_lr/self.div)\n",
        "            return self.high_lr/self.div\n",
        "        elif self.iteration == self.nb:\n",
        "            self.iteration = 0\n",
        "            self.lrs.append(self.high_lr/self.div)\n",
        "            return self.high_lr/self.div\n",
        "        elif self.iteration > 2 * self.step_len:\n",
        "            ratio = (self.iteration - 2 * self.step_len) / (self.nb - 2 * self.step_len)\n",
        "            #lr = self.high_lr * ( 1 - 0.99 * ratio)/self.div\n",
        "            lr = (self.high_lr / self.div) * (1- ratio * (1 - 1/self.div))\n",
        "        elif self.iteration > self.step_len:\n",
        "            ratio = 1- (self.iteration -self.step_len)/self.step_len\n",
        "            lr = self.high_lr * (1 + ratio * (self.div - 1)) / self.div\n",
        "        else :\n",
        "            ratio = self.iteration/self.step_len\n",
        "            lr = self.high_lr * (1 + ratio * (self.div - 1)) / self.div\n",
        "        self.lrs.append(lr)\n",
        "        return lr\n",
        "\n",
        "    def calc_mom(self):\n",
        "        if self.iteration == 0:\n",
        "            self.moms.append(self.high_mom)\n",
        "            return self.high_mom\n",
        "        elif self.iteration == self.nb:\n",
        "            self.iteration = 0\n",
        "            self.moms.append(self.high_mom)\n",
        "            return self.high_mom\n",
        "        elif self.iteration > 2 * self.step_len:\n",
        "            mom = self.high_mom\n",
        "        elif self.iteration > self.step_len:\n",
        "            ratio = (self.iteration -self.step_len)/self.step_len\n",
        "            mom = self.low_mom + ratio * (self.high_mom - self.low_mom)\n",
        "        else :\n",
        "            ratio = self.iteration/self.step_len\n",
        "            mom = self.high_mom - ratio * (self.high_mom - self.low_mom)\n",
        "        self.moms.append(mom)\n",
        "        return mom\n",
        "\n",
        "    def calc_lr_cosine(self):\n",
        "        if self.iteration ==  0:\n",
        "            self.lrs.append(self.high_lr/self.div)\n",
        "            return self.high_lr/self.div\n",
        "        elif self.iteration == self.nb:\n",
        "            self.iteration = 0\n",
        "            self.lrs.append(self.high_lr/self.div)\n",
        "            return self.high_lr/self.div\n",
        "        elif self.iteration > self.step_len:\n",
        "            ratio = (self.iteration -self.step_len)/(self.nb - self.step_len)\n",
        "            lr = (self.high_lr/self.div) + 0.5 * (self.high_lr - self.high_lr/self.div) * (1 + math.cos(math.pi * ratio))\n",
        "        else :\n",
        "            ratio = self.iteration/self.step_len\n",
        "            lr = self.high_lr - 0.5 * (self.high_lr - self.high_lr/self.div) * (1 + math.cos(math.pi * ratio))\n",
        "        self.lrs.append(lr)\n",
        "        return lr\n",
        "\n",
        "    def calc_mom_cosine(self):\n",
        "        if self.iteration == 0:\n",
        "            self.moms.append(self.high_mom)\n",
        "            return self.high_mom\n",
        "        elif self.iteration == self.nb:\n",
        "            self.iteration = 0\n",
        "            self.moms.append(self.high_mom)\n",
        "            return self.high_mom\n",
        "        elif self.iteration > self.step_len:\n",
        "            ratio = (self.iteration -self.step_len)/(self.nb - self.step_len)\n",
        "            mom = self.high_mom - 0.5 * (self.high_mom - self.low_mom) * (1 + math.cos(math.pi * ratio))\n",
        "        else :\n",
        "            ratio = self.iteration/self.step_len\n",
        "            mom = self.low_mom + 0.5 * (self.high_mom - self.low_mom) * (1 + math.cos(math.pi * ratio))\n",
        "        self.moms.append(mom)\n",
        "        return mom"
      ],
      "execution_count": null,
      "outputs": []
    },
    {
      "cell_type": "markdown",
      "metadata": {
        "id": "pirOHonnqyMu",
        "colab_type": "text"
      },
      "source": [
        "# Save and load checkpoint"
      ]
    },
    {
      "cell_type": "code",
      "metadata": {
        "id": "Wl6hJ70UqyMv",
        "colab_type": "code",
        "colab": {}
      },
      "source": [
        "def save_checkpoint(model, is_best, filename='data/checkpoint.pth'):\n",
        "    \"\"\"Save checkpoint if a new best is achieved\"\"\"\n",
        "    if is_best:\n",
        "        torch.save(model.state_dict(), filename)  # save checkpoint\n",
        "    else:\n",
        "        print (\"=> Validation Accuracy did not improve\")"
      ],
      "execution_count": null,
      "outputs": []
    },
    {
      "cell_type": "code",
      "metadata": {
        "id": "0lo2QFSnqyMy",
        "colab_type": "code",
        "colab": {}
      },
      "source": [
        "def load_checkpoint(model, filename = 'data/checkpoint.pth'):\n",
        "    sd = torch.load(filename, map_location=lambda storage, loc: storage)\n",
        "    names = set(model.state_dict().keys())\n",
        "    for n in list(sd.keys()):\n",
        "        if n not in names and n+'_raw' in names:\n",
        "            if n+'_raw' not in sd: sd[n+'_raw'] = sd[n]\n",
        "            del sd[n]\n",
        "    model.load_state_dict(sd)"
      ],
      "execution_count": null,
      "outputs": []
    },
    {
      "cell_type": "markdown",
      "metadata": {
        "id": "xG2DFluVqyM6",
        "colab_type": "text"
      },
      "source": [
        "# AdaptiveConcatPool and custom classifier"
      ]
    },
    {
      "cell_type": "code",
      "metadata": {
        "id": "TyLSrWMuqyM7",
        "colab_type": "code",
        "colab": {}
      },
      "source": [
        "class AdaptiveConcatPool2d(nn.Module):\n",
        "    def __init__(self, sz=1):\n",
        "        super().__init__()\n",
        "        self.adavgp = nn.AdaptiveAvgPool2d(sz)\n",
        "        self.adamaxp = nn.AdaptiveMaxPool2d(sz)\n",
        "        \n",
        "    def forward(self, x):\n",
        "        x = torch.cat([self.adavgp(x), self.adamaxp(x)], 1)\n",
        "        x = x.view(x.size(0),-1)\n",
        "        return x"
      ],
      "execution_count": null,
      "outputs": []
    },
    {
      "cell_type": "code",
      "metadata": {
        "id": "UGZ_dfTZqyM-",
        "colab_type": "code",
        "colab": {}
      },
      "source": [
        "class CustomClassifier(nn.Module):\n",
        "    def __init__(self, in_features, intermed_bn= 512, out_features=10, dout=0.25):\n",
        "        super().__init__()\n",
        "        self.fc_bn0 = nn.BatchNorm1d(in_features)\n",
        "        self.dropout0 = nn.Dropout(dout)\n",
        "        self.fc0 = nn.Linear(in_features, intermed_bn, bias=True)\n",
        "        self.fc_bn1 = nn.BatchNorm1d(intermed_bn, momentum=0.01)\n",
        "        self.dropout1 = nn.Dropout(dout * 2)\n",
        "        self.fc1 = nn.Linear(intermed_bn, out_features, bias=True)\n",
        "        \n",
        "    def forward(self, x):\n",
        "        x = self.fc_bn0(x)\n",
        "        x = self.dropout0(x)\n",
        "        x = F.relu(self.fc0(x))\n",
        "        x = self.fc_bn1(x)\n",
        "        x = self.dropout1(x)\n",
        "        x = self.fc1(x)\n",
        "        return x"
      ],
      "execution_count": null,
      "outputs": []
    },
    {
      "cell_type": "markdown",
      "metadata": {
        "id": "diVctHz3qyNK",
        "colab_type": "text"
      },
      "source": [
        "# Set optimizer/loss and find lr"
      ]
    },
    {
      "cell_type": "code",
      "metadata": {
        "id": "0bRXj_VhqyNL",
        "colab_type": "code",
        "colab": {}
      },
      "source": [
        "def update_lr(optimizer, lr):\n",
        "    for g in optimizer.param_groups:\n",
        "        g['lr'] = lr"
      ],
      "execution_count": null,
      "outputs": []
    },
    {
      "cell_type": "code",
      "metadata": {
        "id": "xAeXY66tqyNP",
        "colab_type": "code",
        "colab": {}
      },
      "source": [
        "def update_mom(optimizer, mom):\n",
        "    for g in optimizer.param_groups:\n",
        "        g['momentum'] = mom"
      ],
      "execution_count": null,
      "outputs": []
    },
    {
      "cell_type": "code",
      "metadata": {
        "id": "uE-JbK8lqyNU",
        "colab_type": "code",
        "colab": {}
      },
      "source": [
        "def find_lr(model, loader, device):\n",
        "    t = tqdm(loader, leave=False, total=len(loader))\n",
        "    running_loss = 0.\n",
        "    avg_beta = 0.98\n",
        "    model.train()\n",
        "    for i, (ip, tgt) in enumerate(t):\n",
        "        ip, tgt = ip.to(device), tgt.to(device)\n",
        "        output = torch.sigmoid(model(ip))\n",
        "        loss = criterion(output, tgt)\n",
        "\n",
        "        running_loss = avg_beta * running_loss + (1-avg_beta) *loss.item()\n",
        "        smoothed_loss = running_loss / (1 - avg_beta**(i+1))\n",
        "        t.set_postfix(loss=smoothed_loss)\n",
        "\n",
        "        lr = clr.calc_lr(smoothed_loss)\n",
        "        if lr == -1 :\n",
        "            break\n",
        "        update_lr(optimizer, lr)   \n",
        "\n",
        "        # compute gradient and do SGD step\n",
        "        optimizer.zero_grad()\n",
        "        loss.backward()\n",
        "        optimizer.step()"
      ],
      "execution_count": null,
      "outputs": []
    },
    {
      "cell_type": "code",
      "metadata": {
        "id": "JW6aWFIoqyNZ",
        "colab_type": "code",
        "colab": {},
        "outputId": "7662b603-dd10-4ab6-c4b1-cb6bc7ea2fce"
      },
      "source": [
        "model = models.resnet34(pretrained=True)"
      ],
      "execution_count": null,
      "outputs": [
        {
          "output_type": "stream",
          "text": [
            "Downloading: \"https://download.pytorch.org/models/resnet34-333f7ec4.pth\" to /root/.cache/torch/checkpoints/resnet34-333f7ec4.pth\n"
          ],
          "name": "stderr"
        },
        {
          "output_type": "display_data",
          "data": {
            "application/vnd.jupyter.widget-view+json": {
              "model_id": "a9bc8a0c10274196b37a3c09f2c4cf05",
              "version_major": 2,
              "version_minor": 0
            },
            "text/plain": [
              "HBox(children=(FloatProgress(value=0.0, max=87306240.0), HTML(value='')))"
            ]
          },
          "metadata": {
            "tags": []
          }
        },
        {
          "output_type": "stream",
          "text": [
            "\n"
          ],
          "name": "stdout"
        }
      ]
    },
    {
      "cell_type": "code",
      "metadata": {
        "id": "NDdIpum0qyNd",
        "colab_type": "code",
        "colab": {},
        "outputId": "011b55ee-e76a-49a3-fb48-26da89171a9c"
      },
      "source": [
        "model"
      ],
      "execution_count": null,
      "outputs": [
        {
          "output_type": "execute_result",
          "data": {
            "text/plain": [
              "ResNet(\n",
              "  (conv1): Conv2d(3, 64, kernel_size=(7, 7), stride=(2, 2), padding=(3, 3), bias=False)\n",
              "  (bn1): BatchNorm2d(64, eps=1e-05, momentum=0.1, affine=True, track_running_stats=True)\n",
              "  (relu): ReLU(inplace=True)\n",
              "  (maxpool): MaxPool2d(kernel_size=3, stride=2, padding=1, dilation=1, ceil_mode=False)\n",
              "  (layer1): Sequential(\n",
              "    (0): BasicBlock(\n",
              "      (conv1): Conv2d(64, 64, kernel_size=(3, 3), stride=(1, 1), padding=(1, 1), bias=False)\n",
              "      (bn1): BatchNorm2d(64, eps=1e-05, momentum=0.1, affine=True, track_running_stats=True)\n",
              "      (relu): ReLU(inplace=True)\n",
              "      (conv2): Conv2d(64, 64, kernel_size=(3, 3), stride=(1, 1), padding=(1, 1), bias=False)\n",
              "      (bn2): BatchNorm2d(64, eps=1e-05, momentum=0.1, affine=True, track_running_stats=True)\n",
              "    )\n",
              "    (1): BasicBlock(\n",
              "      (conv1): Conv2d(64, 64, kernel_size=(3, 3), stride=(1, 1), padding=(1, 1), bias=False)\n",
              "      (bn1): BatchNorm2d(64, eps=1e-05, momentum=0.1, affine=True, track_running_stats=True)\n",
              "      (relu): ReLU(inplace=True)\n",
              "      (conv2): Conv2d(64, 64, kernel_size=(3, 3), stride=(1, 1), padding=(1, 1), bias=False)\n",
              "      (bn2): BatchNorm2d(64, eps=1e-05, momentum=0.1, affine=True, track_running_stats=True)\n",
              "    )\n",
              "    (2): BasicBlock(\n",
              "      (conv1): Conv2d(64, 64, kernel_size=(3, 3), stride=(1, 1), padding=(1, 1), bias=False)\n",
              "      (bn1): BatchNorm2d(64, eps=1e-05, momentum=0.1, affine=True, track_running_stats=True)\n",
              "      (relu): ReLU(inplace=True)\n",
              "      (conv2): Conv2d(64, 64, kernel_size=(3, 3), stride=(1, 1), padding=(1, 1), bias=False)\n",
              "      (bn2): BatchNorm2d(64, eps=1e-05, momentum=0.1, affine=True, track_running_stats=True)\n",
              "    )\n",
              "  )\n",
              "  (layer2): Sequential(\n",
              "    (0): BasicBlock(\n",
              "      (conv1): Conv2d(64, 128, kernel_size=(3, 3), stride=(2, 2), padding=(1, 1), bias=False)\n",
              "      (bn1): BatchNorm2d(128, eps=1e-05, momentum=0.1, affine=True, track_running_stats=True)\n",
              "      (relu): ReLU(inplace=True)\n",
              "      (conv2): Conv2d(128, 128, kernel_size=(3, 3), stride=(1, 1), padding=(1, 1), bias=False)\n",
              "      (bn2): BatchNorm2d(128, eps=1e-05, momentum=0.1, affine=True, track_running_stats=True)\n",
              "      (downsample): Sequential(\n",
              "        (0): Conv2d(64, 128, kernel_size=(1, 1), stride=(2, 2), bias=False)\n",
              "        (1): BatchNorm2d(128, eps=1e-05, momentum=0.1, affine=True, track_running_stats=True)\n",
              "      )\n",
              "    )\n",
              "    (1): BasicBlock(\n",
              "      (conv1): Conv2d(128, 128, kernel_size=(3, 3), stride=(1, 1), padding=(1, 1), bias=False)\n",
              "      (bn1): BatchNorm2d(128, eps=1e-05, momentum=0.1, affine=True, track_running_stats=True)\n",
              "      (relu): ReLU(inplace=True)\n",
              "      (conv2): Conv2d(128, 128, kernel_size=(3, 3), stride=(1, 1), padding=(1, 1), bias=False)\n",
              "      (bn2): BatchNorm2d(128, eps=1e-05, momentum=0.1, affine=True, track_running_stats=True)\n",
              "    )\n",
              "    (2): BasicBlock(\n",
              "      (conv1): Conv2d(128, 128, kernel_size=(3, 3), stride=(1, 1), padding=(1, 1), bias=False)\n",
              "      (bn1): BatchNorm2d(128, eps=1e-05, momentum=0.1, affine=True, track_running_stats=True)\n",
              "      (relu): ReLU(inplace=True)\n",
              "      (conv2): Conv2d(128, 128, kernel_size=(3, 3), stride=(1, 1), padding=(1, 1), bias=False)\n",
              "      (bn2): BatchNorm2d(128, eps=1e-05, momentum=0.1, affine=True, track_running_stats=True)\n",
              "    )\n",
              "    (3): BasicBlock(\n",
              "      (conv1): Conv2d(128, 128, kernel_size=(3, 3), stride=(1, 1), padding=(1, 1), bias=False)\n",
              "      (bn1): BatchNorm2d(128, eps=1e-05, momentum=0.1, affine=True, track_running_stats=True)\n",
              "      (relu): ReLU(inplace=True)\n",
              "      (conv2): Conv2d(128, 128, kernel_size=(3, 3), stride=(1, 1), padding=(1, 1), bias=False)\n",
              "      (bn2): BatchNorm2d(128, eps=1e-05, momentum=0.1, affine=True, track_running_stats=True)\n",
              "    )\n",
              "  )\n",
              "  (layer3): Sequential(\n",
              "    (0): BasicBlock(\n",
              "      (conv1): Conv2d(128, 256, kernel_size=(3, 3), stride=(2, 2), padding=(1, 1), bias=False)\n",
              "      (bn1): BatchNorm2d(256, eps=1e-05, momentum=0.1, affine=True, track_running_stats=True)\n",
              "      (relu): ReLU(inplace=True)\n",
              "      (conv2): Conv2d(256, 256, kernel_size=(3, 3), stride=(1, 1), padding=(1, 1), bias=False)\n",
              "      (bn2): BatchNorm2d(256, eps=1e-05, momentum=0.1, affine=True, track_running_stats=True)\n",
              "      (downsample): Sequential(\n",
              "        (0): Conv2d(128, 256, kernel_size=(1, 1), stride=(2, 2), bias=False)\n",
              "        (1): BatchNorm2d(256, eps=1e-05, momentum=0.1, affine=True, track_running_stats=True)\n",
              "      )\n",
              "    )\n",
              "    (1): BasicBlock(\n",
              "      (conv1): Conv2d(256, 256, kernel_size=(3, 3), stride=(1, 1), padding=(1, 1), bias=False)\n",
              "      (bn1): BatchNorm2d(256, eps=1e-05, momentum=0.1, affine=True, track_running_stats=True)\n",
              "      (relu): ReLU(inplace=True)\n",
              "      (conv2): Conv2d(256, 256, kernel_size=(3, 3), stride=(1, 1), padding=(1, 1), bias=False)\n",
              "      (bn2): BatchNorm2d(256, eps=1e-05, momentum=0.1, affine=True, track_running_stats=True)\n",
              "    )\n",
              "    (2): BasicBlock(\n",
              "      (conv1): Conv2d(256, 256, kernel_size=(3, 3), stride=(1, 1), padding=(1, 1), bias=False)\n",
              "      (bn1): BatchNorm2d(256, eps=1e-05, momentum=0.1, affine=True, track_running_stats=True)\n",
              "      (relu): ReLU(inplace=True)\n",
              "      (conv2): Conv2d(256, 256, kernel_size=(3, 3), stride=(1, 1), padding=(1, 1), bias=False)\n",
              "      (bn2): BatchNorm2d(256, eps=1e-05, momentum=0.1, affine=True, track_running_stats=True)\n",
              "    )\n",
              "    (3): BasicBlock(\n",
              "      (conv1): Conv2d(256, 256, kernel_size=(3, 3), stride=(1, 1), padding=(1, 1), bias=False)\n",
              "      (bn1): BatchNorm2d(256, eps=1e-05, momentum=0.1, affine=True, track_running_stats=True)\n",
              "      (relu): ReLU(inplace=True)\n",
              "      (conv2): Conv2d(256, 256, kernel_size=(3, 3), stride=(1, 1), padding=(1, 1), bias=False)\n",
              "      (bn2): BatchNorm2d(256, eps=1e-05, momentum=0.1, affine=True, track_running_stats=True)\n",
              "    )\n",
              "    (4): BasicBlock(\n",
              "      (conv1): Conv2d(256, 256, kernel_size=(3, 3), stride=(1, 1), padding=(1, 1), bias=False)\n",
              "      (bn1): BatchNorm2d(256, eps=1e-05, momentum=0.1, affine=True, track_running_stats=True)\n",
              "      (relu): ReLU(inplace=True)\n",
              "      (conv2): Conv2d(256, 256, kernel_size=(3, 3), stride=(1, 1), padding=(1, 1), bias=False)\n",
              "      (bn2): BatchNorm2d(256, eps=1e-05, momentum=0.1, affine=True, track_running_stats=True)\n",
              "    )\n",
              "    (5): BasicBlock(\n",
              "      (conv1): Conv2d(256, 256, kernel_size=(3, 3), stride=(1, 1), padding=(1, 1), bias=False)\n",
              "      (bn1): BatchNorm2d(256, eps=1e-05, momentum=0.1, affine=True, track_running_stats=True)\n",
              "      (relu): ReLU(inplace=True)\n",
              "      (conv2): Conv2d(256, 256, kernel_size=(3, 3), stride=(1, 1), padding=(1, 1), bias=False)\n",
              "      (bn2): BatchNorm2d(256, eps=1e-05, momentum=0.1, affine=True, track_running_stats=True)\n",
              "    )\n",
              "  )\n",
              "  (layer4): Sequential(\n",
              "    (0): BasicBlock(\n",
              "      (conv1): Conv2d(256, 512, kernel_size=(3, 3), stride=(2, 2), padding=(1, 1), bias=False)\n",
              "      (bn1): BatchNorm2d(512, eps=1e-05, momentum=0.1, affine=True, track_running_stats=True)\n",
              "      (relu): ReLU(inplace=True)\n",
              "      (conv2): Conv2d(512, 512, kernel_size=(3, 3), stride=(1, 1), padding=(1, 1), bias=False)\n",
              "      (bn2): BatchNorm2d(512, eps=1e-05, momentum=0.1, affine=True, track_running_stats=True)\n",
              "      (downsample): Sequential(\n",
              "        (0): Conv2d(256, 512, kernel_size=(1, 1), stride=(2, 2), bias=False)\n",
              "        (1): BatchNorm2d(512, eps=1e-05, momentum=0.1, affine=True, track_running_stats=True)\n",
              "      )\n",
              "    )\n",
              "    (1): BasicBlock(\n",
              "      (conv1): Conv2d(512, 512, kernel_size=(3, 3), stride=(1, 1), padding=(1, 1), bias=False)\n",
              "      (bn1): BatchNorm2d(512, eps=1e-05, momentum=0.1, affine=True, track_running_stats=True)\n",
              "      (relu): ReLU(inplace=True)\n",
              "      (conv2): Conv2d(512, 512, kernel_size=(3, 3), stride=(1, 1), padding=(1, 1), bias=False)\n",
              "      (bn2): BatchNorm2d(512, eps=1e-05, momentum=0.1, affine=True, track_running_stats=True)\n",
              "    )\n",
              "    (2): BasicBlock(\n",
              "      (conv1): Conv2d(512, 512, kernel_size=(3, 3), stride=(1, 1), padding=(1, 1), bias=False)\n",
              "      (bn1): BatchNorm2d(512, eps=1e-05, momentum=0.1, affine=True, track_running_stats=True)\n",
              "      (relu): ReLU(inplace=True)\n",
              "      (conv2): Conv2d(512, 512, kernel_size=(3, 3), stride=(1, 1), padding=(1, 1), bias=False)\n",
              "      (bn2): BatchNorm2d(512, eps=1e-05, momentum=0.1, affine=True, track_running_stats=True)\n",
              "    )\n",
              "  )\n",
              "  (avgpool): AdaptiveAvgPool2d(output_size=(1, 1))\n",
              "  (fc): Linear(in_features=512, out_features=1000, bias=True)\n",
              ")"
            ]
          },
          "metadata": {
            "tags": []
          },
          "execution_count": 47
        }
      ]
    },
    {
      "cell_type": "code",
      "metadata": {
        "id": "dMvIzAfWqyNh",
        "colab_type": "code",
        "colab": {}
      },
      "source": [
        "model.avgpool = AdaptiveConcatPool2d()\n",
        "model.fc = CustomClassifier(in_features=model.fc.in_features*2, out_features=10)"
      ],
      "execution_count": null,
      "outputs": []
    },
    {
      "cell_type": "code",
      "metadata": {
        "id": "JgGrUC_RqyNk",
        "colab_type": "code",
        "colab": {}
      },
      "source": [
        "for param in model.parameters():\n",
        "    param.require_grad = True\n",
        "    \n",
        "model = model.to(device)"
      ],
      "execution_count": null,
      "outputs": []
    },
    {
      "cell_type": "code",
      "metadata": {
        "id": "RFu0KMlDqyNo",
        "colab_type": "code",
        "colab": {}
      },
      "source": [
        "criterion = nn.BCELoss()"
      ],
      "execution_count": null,
      "outputs": []
    },
    {
      "cell_type": "code",
      "metadata": {
        "id": "j4fnbawjqyNv",
        "colab_type": "code",
        "colab": {}
      },
      "source": [
        "optimizer = torch.optim.SGD(model.parameters(), lr=1e-2, momentum=0.9, weight_decay=1e-4)"
      ],
      "execution_count": null,
      "outputs": []
    },
    {
      "cell_type": "code",
      "metadata": {
        "id": "60YUdlDUqyN4",
        "colab_type": "code",
        "colab": {}
      },
      "source": [
        "save_checkpoint(model, True, 'init.pth')"
      ],
      "execution_count": null,
      "outputs": []
    },
    {
      "cell_type": "code",
      "metadata": {
        "id": "gynYh20nqyOA",
        "colab_type": "code",
        "colab": {}
      },
      "source": [
        "clr = CLR(optimizer, len(train_loader))"
      ],
      "execution_count": null,
      "outputs": []
    },
    {
      "cell_type": "code",
      "metadata": {
        "id": "7z1iAGsfqyOF",
        "colab_type": "code",
        "colab": {},
        "outputId": "1060d9da-ac9d-471e-824b-b12275947f1a"
      },
      "source": [
        "find_lr(model, train_loader, device)"
      ],
      "execution_count": null,
      "outputs": [
        {
          "output_type": "display_data",
          "data": {
            "application/vnd.jupyter.widget-view+json": {
              "model_id": "8d04d7404b844e359a46092eaf494143",
              "version_major": 2,
              "version_minor": 0
            },
            "text/plain": [
              "HBox(children=(FloatProgress(value=0.0, max=546.0), HTML(value='')))"
            ]
          },
          "metadata": {
            "tags": []
          }
        }
      ]
    },
    {
      "cell_type": "code",
      "metadata": {
        "id": "Ep2RmYk9qyOJ",
        "colab_type": "code",
        "colab": {},
        "outputId": "ac619fdb-66db-4d1b-d4e7-0d0cd898185d"
      },
      "source": [
        "clr.plot()"
      ],
      "execution_count": null,
      "outputs": [
        {
          "output_type": "display_data",
          "data": {
            "image/png": "[encoded data removed]",
            "text/plain": [
              "<Figure size 432x288 with 1 Axes>"
            ]
          },
          "metadata": {
            "tags": [],
            "needs_background": "light"
          }
        }
      ]
    },
    {
      "cell_type": "markdown",
      "metadata": {
        "id": "Zn2LJENEqyOM",
        "colab_type": "text"
      },
      "source": [
        "# Train and Test"
      ]
    },
    {
      "cell_type": "code",
      "metadata": {
        "id": "-m8kSmsDqyOM",
        "colab_type": "code",
        "colab": {}
      },
      "source": [
        "def train(epoch, model, optimizer, use_cycle=False, onecycle=None):\n",
        "    model.train()\n",
        "    global trn_F1, trn_losses, trn_time\n",
        "    running_loss = 0.\n",
        "    running_F1 = 0.\n",
        "    \n",
        "    start_time = time.time()\n",
        "    \n",
        "    t = tqdm(train_loader, leave=False, total=len(train_loader))\n",
        "\n",
        "    for i, (ip, tgt) in enumerate(t):\n",
        "        ip, tgt = ip.to(device), tgt.to(device)\n",
        "        \n",
        "        if use_cycle:    \n",
        "            lr, mom = onecycle.calc()\n",
        "            update_lr(optimizer, lr)\n",
        "            update_mom(optimizer, mom)\n",
        "                                    \n",
        "        output = torch.sigmoid(model(ip))\n",
        "        loss = criterion(output, tgt)\n",
        "        running_loss += loss.item()\n",
        "            \n",
        "        # Append outputs\n",
        "        running_F1 += F_score(tgt, output)\n",
        "        \n",
        "        # compute gradient and do SGD step\n",
        "        optimizer.zero_grad()\n",
        "        loss.backward()\n",
        "        optimizer.step()\n",
        "        \n",
        "    trn_time = time.time() - start_time        \n",
        "    trn_F1 = running_F1/len(train_loader)\n",
        "    trn_losses = running_loss/len(train_loader)"
      ],
      "execution_count": null,
      "outputs": []
    },
    {
      "cell_type": "code",
      "metadata": {
        "id": "S2uUuX7EqyOS",
        "colab_type": "code",
        "colab": {}
      },
      "source": [
        "def test(model):\n",
        "    with torch.no_grad():\n",
        "        model.eval()\n",
        "        global best_F1\n",
        "        global val_F1, val_losses, val_time\n",
        "        running_loss = 0.\n",
        "        running_F1 = 0.\n",
        "        start_time = time.time()\n",
        "        \n",
        "        t = tqdm(valid_loader, leave=False, total=len(valid_loader))\n",
        "        \n",
        "        for i, (ip, tgt) in enumerate(t):\n",
        "            ip, tgt = ip.to(device), tgt.to(device)\n",
        "            output = torch.sigmoid(model(ip))\n",
        "            loss = criterion(output, tgt)\n",
        "            running_loss += loss.item()\n",
        "            running_F1 += F_score(tgt, output)\n",
        "            \n",
        "        val_time = time.time() - start_time\n",
        "        F1_score = running_F1/len(valid_loader)\n",
        "        if F1_score > best_F1:\n",
        "            best_F1 = F1_score\n",
        "            save_checkpoint(model, True, './best_model.pth')\n",
        "            \n",
        "        val_F1 = F1_score\n",
        "        val_losses = running_loss/len(valid_loader)"
      ],
      "execution_count": null,
      "outputs": []
    },
    {
      "cell_type": "code",
      "metadata": {
        "id": "M9YHlq3CqyOW",
        "colab_type": "code",
        "colab": {}
      },
      "source": [
        "train_stats = AvgStats()\n",
        "test_stats = AvgStats()"
      ],
      "execution_count": null,
      "outputs": []
    },
    {
      "cell_type": "code",
      "metadata": {
        "id": "TbdgkL3OqyOZ",
        "colab_type": "code",
        "colab": {}
      },
      "source": [
        "best_F1 = 0\n",
        "trn_time = 0\n",
        "trn_losses = 0.0\n",
        "trn_F1 = 0.0\n",
        "val_losses = 0.0\n",
        "val_F1 = 0.0\n",
        "val_time = 0"
      ],
      "execution_count": null,
      "outputs": []
    },
    {
      "cell_type": "code",
      "metadata": {
        "id": "nInIPpExqyOc",
        "colab_type": "code",
        "colab": {}
      },
      "source": [
        "def fit(model, optimizer, epochs, sched=None, use_cycle=False, onecycle=None):\n",
        "    print(\"Epoch\\tTrn_loss\\tVal_loss\\tTrn_F1\\t\\tVal_F1\")\n",
        "    for j in range(epochs):\n",
        "        train(j, model, optimizer, use_cycle=use_cycle, onecycle=onecycle)\n",
        "        train_stats.append(trn_losses, trn_F1, trn_time)\n",
        "        test(model)\n",
        "        test_stats.append(val_losses, val_F1, val_time)\n",
        "        if sched:\n",
        "            sched.step(j)\n",
        "        print(\"{}\\t{:06.8f}\\t{:06.8f}\\t{:06.8f}\\t{:06.8f}\"\n",
        "              .format(j+1, trn_losses, val_losses, trn_F1, val_F1))"
      ],
      "execution_count": null,
      "outputs": []
    },
    {
      "cell_type": "code",
      "metadata": {
        "id": "4bZedS7UqyOf",
        "colab_type": "code",
        "colab": {}
      },
      "source": [
        "epochs = 15"
      ],
      "execution_count": null,
      "outputs": []
    },
    {
      "cell_type": "code",
      "metadata": {
        "id": "rxuyXx-SqyOi",
        "colab_type": "code",
        "colab": {}
      },
      "source": [
        "load_checkpoint(model, 'init.pth')"
      ],
      "execution_count": null,
      "outputs": []
    },
    {
      "cell_type": "code",
      "metadata": {
        "id": "28nvCLSRqyOk",
        "colab_type": "code",
        "colab": {}
      },
      "source": [
        "optimizer = torch.optim.SGD(model.parameters(), lr=1e-2, momentum=0.9, weight_decay=1e-4)"
      ],
      "execution_count": null,
      "outputs": []
    },
    {
      "cell_type": "code",
      "metadata": {
        "id": "5JddbQ4EqyOo",
        "colab_type": "code",
        "colab": {}
      },
      "source": [
        "ocp = OneCycle(int(len(train_ds) * epochs /bs), 1e-1, use_cosine=True)\n",
        "#sched = torch.optim.lr_scheduler.StepLR(optimizer, step_size=5, gamma=0.2)"
      ],
      "execution_count": null,
      "outputs": []
    },
    {
      "cell_type": "code",
      "metadata": {
        "id": "xwiE2ci2qyOq",
        "colab_type": "code",
        "colab": {}
      },
      "source": [
        "import time"
      ],
      "execution_count": null,
      "outputs": []
    },
    {
      "cell_type": "code",
      "metadata": {
        "id": "G6nm7ACWqyOs",
        "colab_type": "code",
        "colab": {},
        "outputId": "9a9867c6-c9a4-4175-90c6-3c46c582dbce"
      },
      "source": [
        "fit(model, optimizer, epochs, use_cycle=True, onecycle=ocp)"
      ],
      "execution_count": null,
      "outputs": [
        {
          "output_type": "stream",
          "text": [
            "Epoch\tTrn_loss\tVal_loss\tTrn_F1\t\tVal_F1\n"
          ],
          "name": "stdout"
        },
        {
          "output_type": "display_data",
          "data": {
            "application/vnd.jupyter.widget-view+json": {
              "model_id": "d36527022112425a9ca3a1ddce13f0ce",
              "version_major": 2,
              "version_minor": 0
            },
            "text/plain": [
              "HBox(children=(FloatProgress(value=0.0, max=546.0), HTML(value='')))"
            ]
          },
          "metadata": {
            "tags": []
          }
        },
        {
          "output_type": "display_data",
          "data": {
            "application/vnd.jupyter.widget-view+json": {
              "model_id": "501c19247a394a58a755aab2b126995f",
              "version_major": 2,
              "version_minor": 0
            },
            "text/plain": [
              "HBox(children=(FloatProgress(value=0.0, max=56.0), HTML(value='')))"
            ]
          },
          "metadata": {
            "tags": []
          }
        },
        {
          "output_type": "stream",
          "text": [
            "1\t0.36741001\t0.25950345\t0.49771816\t0.58995134\n"
          ],
          "name": "stdout"
        },
        {
          "output_type": "display_data",
          "data": {
            "application/vnd.jupyter.widget-view+json": {
              "model_id": "a308675e1b274c19a0e500842bf66f59",
              "version_major": 2,
              "version_minor": 0
            },
            "text/plain": [
              "HBox(children=(FloatProgress(value=0.0, max=546.0), HTML(value='')))"
            ]
          },
          "metadata": {
            "tags": []
          }
        },
        {
          "output_type": "display_data",
          "data": {
            "application/vnd.jupyter.widget-view+json": {
              "model_id": "8e61487a618948e18e23513485ce1a5d",
              "version_major": 2,
              "version_minor": 0
            },
            "text/plain": [
              "HBox(children=(FloatProgress(value=0.0, max=56.0), HTML(value='')))"
            ]
          },
          "metadata": {
            "tags": []
          }
        },
        {
          "output_type": "stream",
          "text": [
            "2\t0.26018098\t0.26673441\t0.62216705\t0.59165412\n"
          ],
          "name": "stdout"
        },
        {
          "output_type": "display_data",
          "data": {
            "application/vnd.jupyter.widget-view+json": {
              "model_id": "237e548f12004ecc91071c7de758dfe3",
              "version_major": 2,
              "version_minor": 0
            },
            "text/plain": [
              "HBox(children=(FloatProgress(value=0.0, max=546.0), HTML(value='')))"
            ]
          },
          "metadata": {
            "tags": []
          }
        },
        {
          "output_type": "display_data",
          "data": {
            "application/vnd.jupyter.widget-view+json": {
              "model_id": "45d51c4c51264115875edac7dc05dc1b",
              "version_major": 2,
              "version_minor": 0
            },
            "text/plain": [
              "HBox(children=(FloatProgress(value=0.0, max=56.0), HTML(value='')))"
            ]
          },
          "metadata": {
            "tags": []
          }
        },
        {
          "output_type": "stream",
          "text": [
            "3\t0.24434600\t0.22388746\t0.65551054\t0.67512637\n"
          ],
          "name": "stdout"
        },
        {
          "output_type": "display_data",
          "data": {
            "application/vnd.jupyter.widget-view+json": {
              "model_id": "f785718e3efa49729051cd4a4d173420",
              "version_major": 2,
              "version_minor": 0
            },
            "text/plain": [
              "HBox(children=(FloatProgress(value=0.0, max=546.0), HTML(value='')))"
            ]
          },
          "metadata": {
            "tags": []
          }
        },
        {
          "output_type": "display_data",
          "data": {
            "application/vnd.jupyter.widget-view+json": {
              "model_id": "39c6e40841be4d368ead3f3ecc3440e7",
              "version_major": 2,
              "version_minor": 0
            },
            "text/plain": [
              "HBox(children=(FloatProgress(value=0.0, max=56.0), HTML(value='')))"
            ]
          },
          "metadata": {
            "tags": []
          }
        },
        {
          "output_type": "stream",
          "text": [
            "4\t0.23033157\t0.23661960\t0.68472248\t0.70496041\n"
          ],
          "name": "stdout"
        },
        {
          "output_type": "display_data",
          "data": {
            "application/vnd.jupyter.widget-view+json": {
              "model_id": "984f1c94e75648f8806150326d7e2352",
              "version_major": 2,
              "version_minor": 0
            },
            "text/plain": [
              "HBox(children=(FloatProgress(value=0.0, max=546.0), HTML(value='')))"
            ]
          },
          "metadata": {
            "tags": []
          }
        },
        {
          "output_type": "display_data",
          "data": {
            "application/vnd.jupyter.widget-view+json": {
              "model_id": "d510594f1e034a0aa55bb8ae1708b4d7",
              "version_major": 2,
              "version_minor": 0
            },
            "text/plain": [
              "HBox(children=(FloatProgress(value=0.0, max=56.0), HTML(value='')))"
            ]
          },
          "metadata": {
            "tags": []
          }
        },
        {
          "output_type": "stream",
          "text": [
            "5\t0.21788720\t0.24000172\t0.70127046\t0.60855246\n"
          ],
          "name": "stdout"
        },
        {
          "output_type": "display_data",
          "data": {
            "application/vnd.jupyter.widget-view+json": {
              "model_id": "6fe1c1a1717743bc9a04f49f96b99fd4",
              "version_major": 2,
              "version_minor": 0
            },
            "text/plain": [
              "HBox(children=(FloatProgress(value=0.0, max=546.0), HTML(value='')))"
            ]
          },
          "metadata": {
            "tags": []
          }
        },
        {
          "output_type": "display_data",
          "data": {
            "application/vnd.jupyter.widget-view+json": {
              "model_id": "3e4d2780cdce4f219b2a19ccd538793c",
              "version_major": 2,
              "version_minor": 0
            },
            "text/plain": [
              "HBox(children=(FloatProgress(value=0.0, max=56.0), HTML(value='')))"
            ]
          },
          "metadata": {
            "tags": []
          }
        },
        {
          "output_type": "stream",
          "text": [
            "6\t0.20737249\t0.20519083\t0.71469915\t0.73342103\n"
          ],
          "name": "stdout"
        },
        {
          "output_type": "display_data",
          "data": {
            "application/vnd.jupyter.widget-view+json": {
              "model_id": "724cb6930e774a4588c21f18fa5015d2",
              "version_major": 2,
              "version_minor": 0
            },
            "text/plain": [
              "HBox(children=(FloatProgress(value=0.0, max=546.0), HTML(value='')))"
            ]
          },
          "metadata": {
            "tags": []
          }
        },
        {
          "output_type": "display_data",
          "data": {
            "application/vnd.jupyter.widget-view+json": {
              "model_id": "00b601b11fd84190acc35b2213770689",
              "version_major": 2,
              "version_minor": 0
            },
            "text/plain": [
              "HBox(children=(FloatProgress(value=0.0, max=56.0), HTML(value='')))"
            ]
          },
          "metadata": {
            "tags": []
          }
        },
        {
          "output_type": "stream",
          "text": [
            "7\t0.19884121\t0.21606863\t0.73026621\t0.68826264\n"
          ],
          "name": "stdout"
        },
        {
          "output_type": "display_data",
          "data": {
            "application/vnd.jupyter.widget-view+json": {
              "model_id": "738fd3228ba34fd894fee715afd0d60e",
              "version_major": 2,
              "version_minor": 0
            },
            "text/plain": [
              "HBox(children=(FloatProgress(value=0.0, max=546.0), HTML(value='')))"
            ]
          },
          "metadata": {
            "tags": []
          }
        },
        {
          "output_type": "display_data",
          "data": {
            "application/vnd.jupyter.widget-view+json": {
              "model_id": "51b0789f3bd341fd9e6f3b8d1f4af87a",
              "version_major": 2,
              "version_minor": 0
            },
            "text/plain": [
              "HBox(children=(FloatProgress(value=0.0, max=56.0), HTML(value='')))"
            ]
          },
          "metadata": {
            "tags": []
          }
        },
        {
          "output_type": "stream",
          "text": [
            "8\t0.19351969\t0.20674446\t0.73904467\t0.67342114\n"
          ],
          "name": "stdout"
        },
        {
          "output_type": "display_data",
          "data": {
            "application/vnd.jupyter.widget-view+json": {
              "model_id": "52c6c474c2c5403985446db08e852851",
              "version_major": 2,
              "version_minor": 0
            },
            "text/plain": [
              "HBox(children=(FloatProgress(value=0.0, max=546.0), HTML(value='')))"
            ]
          },
          "metadata": {
            "tags": []
          }
        },
        {
          "output_type": "display_data",
          "data": {
            "application/vnd.jupyter.widget-view+json": {
              "model_id": "3e651a839770482fb12bdec36dfc5fe0",
              "version_major": 2,
              "version_minor": 0
            },
            "text/plain": [
              "HBox(children=(FloatProgress(value=0.0, max=56.0), HTML(value='')))"
            ]
          },
          "metadata": {
            "tags": []
          }
        },
        {
          "output_type": "stream",
          "text": [
            "9\t0.18576869\t0.19277268\t0.74921513\t0.73588145\n"
          ],
          "name": "stdout"
        },
        {
          "output_type": "display_data",
          "data": {
            "application/vnd.jupyter.widget-view+json": {
              "model_id": "a31dff5d2c084508a5ec9d6ee1da307e",
              "version_major": 2,
              "version_minor": 0
            },
            "text/plain": [
              "HBox(children=(FloatProgress(value=0.0, max=546.0), HTML(value='')))"
            ]
          },
          "metadata": {
            "tags": []
          }
        },
        {
          "output_type": "display_data",
          "data": {
            "application/vnd.jupyter.widget-view+json": {
              "model_id": "e206ae438bef47d79ba5e5c7ce345ffd",
              "version_major": 2,
              "version_minor": 0
            },
            "text/plain": [
              "HBox(children=(FloatProgress(value=0.0, max=56.0), HTML(value='')))"
            ]
          },
          "metadata": {
            "tags": []
          }
        },
        {
          "output_type": "stream",
          "text": [
            "10\t0.18059393\t0.18655622\t0.75690293\t0.71549535\n"
          ],
          "name": "stdout"
        },
        {
          "output_type": "display_data",
          "data": {
            "application/vnd.jupyter.widget-view+json": {
              "model_id": "9d4c895e03c54f1aac85200b8ed2c484",
              "version_major": 2,
              "version_minor": 0
            },
            "text/plain": [
              "HBox(children=(FloatProgress(value=0.0, max=546.0), HTML(value='')))"
            ]
          },
          "metadata": {
            "tags": []
          }
        },
        {
          "output_type": "display_data",
          "data": {
            "application/vnd.jupyter.widget-view+json": {
              "model_id": "a08b5f27b5ef41f69184ecb105553fad",
              "version_major": 2,
              "version_minor": 0
            },
            "text/plain": [
              "HBox(children=(FloatProgress(value=0.0, max=56.0), HTML(value='')))"
            ]
          },
          "metadata": {
            "tags": []
          }
        },
        {
          "output_type": "stream",
          "text": [
            "11\t0.17328705\t0.17783332\t0.76757979\t0.76270121\n"
          ],
          "name": "stdout"
        },
        {
          "output_type": "display_data",
          "data": {
            "application/vnd.jupyter.widget-view+json": {
              "model_id": "89c69ebdcfaa446b8da4443adc6613cb",
              "version_major": 2,
              "version_minor": 0
            },
            "text/plain": [
              "HBox(children=(FloatProgress(value=0.0, max=546.0), HTML(value='')))"
            ]
          },
          "metadata": {
            "tags": []
          }
        },
        {
          "output_type": "display_data",
          "data": {
            "application/vnd.jupyter.widget-view+json": {
              "model_id": "da8f514965c74f65ab33a49cdd8d4a83",
              "version_major": 2,
              "version_minor": 0
            },
            "text/plain": [
              "HBox(children=(FloatProgress(value=0.0, max=56.0), HTML(value='')))"
            ]
          },
          "metadata": {
            "tags": []
          }
        },
        {
          "output_type": "stream",
          "text": [
            "13\t0.16001507\t0.16169139\t0.79312980\t0.78886181\n"
          ],
          "name": "stdout"
        },
        {
          "output_type": "display_data",
          "data": {
            "application/vnd.jupyter.widget-view+json": {
              "model_id": "945f39a4a786479fbfd9aae85a3433cb",
              "version_major": 2,
              "version_minor": 0
            },
            "text/plain": [
              "HBox(children=(FloatProgress(value=0.0, max=546.0), HTML(value='')))"
            ]
          },
          "metadata": {
            "tags": []
          }
        },
        {
          "output_type": "display_data",
          "data": {
            "application/vnd.jupyter.widget-view+json": {
              "model_id": "0b3b8455ec1a4f7e88651f836ed17a2d",
              "version_major": 2,
              "version_minor": 0
            },
            "text/plain": [
              "HBox(children=(FloatProgress(value=0.0, max=56.0), HTML(value='')))"
            ]
          },
          "metadata": {
            "tags": []
          }
        },
        {
          "output_type": "stream",
          "text": [
            "15\t0.14269285\t0.16058432\t0.81736082\t0.79416776\n"
          ],
          "name": "stdout"
        }
      ]
    },
    {
      "cell_type": "code",
      "metadata": {
        "id": "BJXjf5jHqyOv",
        "colab_type": "code",
        "colab": {},
        "outputId": "bfa6b81b-235a-4c67-f482-aba94c9c6a00"
      },
      "source": [
        "plt.xlabel(\"Epochs\")\n",
        "plt.ylabel(\"Losses\")\n",
        "plt.plot(train_stats.losses, 'r', label='train')\n",
        "plt.plot(test_stats.losses, 'g', label='valid')\n",
        "plt.legend()\n",
        "plt.show()"
      ],
      "execution_count": null,
      "outputs": [
        {
          "output_type": "display_data",
          "data": {
            "image/png": "[encoded data removed]",
            "text/plain": [
              "<Figure size 432x288 with 1 Axes>"
            ]
          },
          "metadata": {
            "tags": [],
            "needs_background": "light"
          }
        }
      ]
    },
    {
      "cell_type": "code",
      "metadata": {
        "id": "C64B6U1dqyOy",
        "colab_type": "code",
        "colab": {},
        "outputId": "02eec331-dde9-48d6-9b03-91181c5abfa2"
      },
      "source": [
        "plt.xlabel(\"Epochs\")\n",
        "plt.ylabel(\"F1-score\")\n",
        "plt.plot(train_stats.F1, 'r', label='train')\n",
        "plt.plot(test_stats.F1, 'g', label='valid')\n",
        "plt.legend()\n",
        "plt.show()"
      ],
      "execution_count": null,
      "outputs": [
        {
          "output_type": "display_data",
          "data": {
            "image/png": "[encoded data removed]",
            "text/plain": [
              "<Figure size 432x288 with 1 Axes>"
            ]
          },
          "metadata": {
            "tags": [],
            "needs_background": "light"
          }
        }
      ]
    },
    {
      "cell_type": "code",
      "metadata": {
        "id": "yAGTPU3YqyO0",
        "colab_type": "code",
        "colab": {}
      },
      "source": [
        "def pred_single(img, return_label=True):\n",
        "    with torch.no_grad():\n",
        "        model.eval()\n",
        "        bs_img = img.unsqueeze(0)\n",
        "        bs_img = bs_img.to(device)\n",
        "        preds = torch.sigmoid(model(bs_img))\n",
        "        prediction = preds[0]\n",
        "        display_img(img, prediction, return_label)"
      ],
      "execution_count": null,
      "outputs": []
    },
    {
      "cell_type": "code",
      "metadata": {
        "id": "Zy7chaOWqyO6",
        "colab_type": "code",
        "colab": {}
      },
      "source": [
        "TEST_CSV = '../input/jovian-pytorch-z2g/submission.csv'"
      ],
      "execution_count": null,
      "outputs": []
    },
    {
      "cell_type": "code",
      "metadata": {
        "id": "0BssmCrXqyO8",
        "colab_type": "code",
        "colab": {}
      },
      "source": [
        "test_df = pd.read_csv(TEST_CSV)"
      ],
      "execution_count": null,
      "outputs": []
    },
    {
      "cell_type": "code",
      "metadata": {
        "id": "rme3-d1eqyO_",
        "colab_type": "code",
        "colab": {}
      },
      "source": [
        "test_ds = ProteinDataset(TEST_DIR, test_df, test_tf)"
      ],
      "execution_count": null,
      "outputs": []
    },
    {
      "cell_type": "code",
      "metadata": {
        "id": "QDXJmD_iqyPB",
        "colab_type": "code",
        "colab": {}
      },
      "source": [
        "img, label = test_ds[100]"
      ],
      "execution_count": null,
      "outputs": []
    },
    {
      "cell_type": "code",
      "metadata": {
        "id": "qWbvkFaIqyPE",
        "colab_type": "code",
        "colab": {},
        "outputId": "ee1d74aa-7e9c-4b06-f10c-891222a2119e"
      },
      "source": [
        "pred_single(img)"
      ],
      "execution_count": null,
      "outputs": [
        {
          "output_type": "display_data",
          "data": {
            "image/png": "[encoded data removed]",
            "text/plain": [
              "<Figure size 432x288 with 1 Axes>"
            ]
          },
          "metadata": {
            "tags": [],
            "needs_background": "light"
          }
        }
      ]
    },
    {
      "cell_type": "code",
      "metadata": {
        "id": "_BbPmXhJqyPG",
        "colab_type": "code",
        "colab": {}
      },
      "source": [
        "test_loader = DataLoader(test_ds, bs, num_workers=4, pin_memory=True)"
      ],
      "execution_count": null,
      "outputs": []
    },
    {
      "cell_type": "code",
      "metadata": {
        "id": "2N8ZLqbxqyPM",
        "colab_type": "code",
        "colab": {}
      },
      "source": [
        "load_checkpoint(model, './best_model.pth')"
      ],
      "execution_count": null,
      "outputs": []
    },
    {
      "cell_type": "code",
      "metadata": {
        "id": "b4tge7d-qyPR",
        "colab_type": "code",
        "colab": {}
      },
      "source": [
        "def predict(loader):\n",
        "    with torch.no_grad():\n",
        "        torch.cuda.empty_cache()\n",
        "        model.eval()\n",
        "        preds = []\n",
        "        t = tqdm(loader, leave=False, total=len(loader))\n",
        "        for i, (ip, _) in enumerate(t):\n",
        "            ip = ip.to(device)\n",
        "            output = torch.sigmoid(model(ip))\n",
        "            preds.append(output.cpu().detach())\n",
        "        preds = torch.cat(preds)\n",
        "        return [\" \".join(decode_labels(pred)) for pred in preds]"
      ],
      "execution_count": null,
      "outputs": []
    },
    {
      "cell_type": "code",
      "metadata": {
        "id": "hUdPwmrvqyPU",
        "colab_type": "code",
        "colab": {},
        "outputId": "1acc6156-b2e9-46a0-ab61-c9f9beef7705"
      },
      "source": [
        "preds = predict(test_loader)"
      ],
      "execution_count": null,
      "outputs": [
        {
          "output_type": "display_data",
          "data": {
            "application/vnd.jupyter.widget-view+json": {
              "model_id": "f6083042227e451e8f9727d870ab887b",
              "version_major": 2,
              "version_minor": 0
            },
            "text/plain": [
              "HBox(children=(FloatProgress(value=0.0, max=258.0), HTML(value='')))"
            ]
          },
          "metadata": {
            "tags": []
          }
        }
      ]
    },
    {
      "cell_type": "code",
      "metadata": {
        "id": "wR6F9cLqqyPW",
        "colab_type": "code",
        "colab": {},
        "outputId": "9bed72be-ba32-4603-8fc5-5606f22d1057"
      },
      "source": [
        "len(preds), len(test_df)"
      ],
      "execution_count": null,
      "outputs": [
        {
          "output_type": "execute_result",
          "data": {
            "text/plain": [
              "(8243, 8243)"
            ]
          },
          "metadata": {
            "tags": []
          },
          "execution_count": 79
        }
      ]
    },
    {
      "cell_type": "code",
      "metadata": {
        "id": "sAD02G9JqyPY",
        "colab_type": "code",
        "colab": {},
        "outputId": "25503fe7-77c3-4b6b-8427-c644ed3adb4e"
      },
      "source": [
        "preds"
      ],
      "execution_count": null,
      "outputs": [
        {
          "output_type": "execute_result",
          "data": {
            "text/plain": [
              "['4 8 9',\n",
              " '4',\n",
              " '6',\n",
              " '3 6',\n",
              " '3 4',\n",
              " '1',\n",
              " '0',\n",
              " '3 6',\n",
              " '4',\n",
              " '9',\n",
              " '9',\n",
              " '4 7',\n",
              " '3 4',\n",
              " '7',\n",
              " '3 4',\n",
              " '5',\n",
              " '1',\n",
              " '4 8',\n",
              " '9',\n",
              " '4 7',\n",
              " '2 4',\n",
              " '4',\n",
              " '7',\n",
              " '4 5 6 7',\n",
              " '4 6',\n",
              " '4 7',\n",
              " '4 7',\n",
              " '4 6',\n",
              " '1',\n",
              " '5 6',\n",
              " '4',\n",
              " '4',\n",
              " '4 6 7',\n",
              " '3 4',\n",
              " '0',\n",
              " '4',\n",
              " '7',\n",
              " '4',\n",
              " '6',\n",
              " '4 6',\n",
              " '4',\n",
              " '1',\n",
              " '3',\n",
              " '6',\n",
              " '4 6',\n",
              " '4 7',\n",
              " '2 7',\n",
              " '4',\n",
              " '0',\n",
              " '3',\n",
              " '6',\n",
              " '2',\n",
              " '9',\n",
              " '4 7',\n",
              " '0',\n",
              " '4',\n",
              " '4',\n",
              " '6',\n",
              " '9',\n",
              " '1 4',\n",
              " '2 4',\n",
              " '6',\n",
              " '0',\n",
              " '3 4',\n",
              " '2 4 6',\n",
              " '5',\n",
              " '3 5',\n",
              " '0',\n",
              " '0 4',\n",
              " '6 7',\n",
              " '9',\n",
              " '',\n",
              " '8',\n",
              " '0 4',\n",
              " '0 3',\n",
              " '4',\n",
              " '2 4',\n",
              " '4',\n",
              " '4 6',\n",
              " '5',\n",
              " '',\n",
              " '4 6',\n",
              " '4 6',\n",
              " '2 4',\n",
              " '9',\n",
              " '3',\n",
              " '2',\n",
              " '2',\n",
              " '2 4',\n",
              " '4',\n",
              " '3',\n",
              " '1',\n",
              " '5',\n",
              " '4 6',\n",
              " '2 3',\n",
              " '0',\n",
              " '4',\n",
              " '4',\n",
              " '6',\n",
              " '1',\n",
              " '4 6',\n",
              " '8',\n",
              " '6 9',\n",
              " '7',\n",
              " '4',\n",
              " '4',\n",
              " '2 4',\n",
              " '1 6',\n",
              " '0',\n",
              " '2 3',\n",
              " '3',\n",
              " '6 7',\n",
              " '',\n",
              " '4',\n",
              " '0',\n",
              " '9',\n",
              " '4',\n",
              " '1',\n",
              " '0',\n",
              " '4',\n",
              " '3',\n",
              " '6 7',\n",
              " '9',\n",
              " '4 6',\n",
              " '3',\n",
              " '',\n",
              " '4 6',\n",
              " '6',\n",
              " '0',\n",
              " '9',\n",
              " '2',\n",
              " '2',\n",
              " '0',\n",
              " '7',\n",
              " '0',\n",
              " '4 6',\n",
              " '3 4',\n",
              " '2',\n",
              " '0',\n",
              " '0',\n",
              " '1 6',\n",
              " '4',\n",
              " '0 4',\n",
              " '2',\n",
              " '2',\n",
              " '8',\n",
              " '4',\n",
              " '4',\n",
              " '3 6',\n",
              " '9',\n",
              " '4 6',\n",
              " '3',\n",
              " '4 6',\n",
              " '1',\n",
              " '4',\n",
              " '9',\n",
              " '4 6',\n",
              " '4 6',\n",
              " '2',\n",
              " '0 2',\n",
              " '1',\n",
              " '6',\n",
              " '1 4',\n",
              " '1',\n",
              " '0',\n",
              " '3 5',\n",
              " '6 7',\n",
              " '1 4',\n",
              " '2 4',\n",
              " '4',\n",
              " '0 2',\n",
              " '8',\n",
              " '4',\n",
              " '6 7',\n",
              " '2',\n",
              " '4',\n",
              " '6',\n",
              " '9',\n",
              " '3 6',\n",
              " '7',\n",
              " '4 5 6',\n",
              " '6 9',\n",
              " '6',\n",
              " '6 7',\n",
              " '4 6',\n",
              " '0',\n",
              " '3',\n",
              " '0',\n",
              " '6',\n",
              " '9',\n",
              " '7',\n",
              " '4 8',\n",
              " '4 8',\n",
              " '',\n",
              " '0',\n",
              " '4',\n",
              " '3 4',\n",
              " '2',\n",
              " '4 6 7',\n",
              " '4 6 7',\n",
              " '0',\n",
              " '6',\n",
              " '2',\n",
              " '7',\n",
              " '6',\n",
              " '1',\n",
              " '0',\n",
              " '7',\n",
              " '2 3',\n",
              " '3',\n",
              " '4',\n",
              " '0 4',\n",
              " '0',\n",
              " '3 4',\n",
              " '4',\n",
              " '4 5 6',\n",
              " '1',\n",
              " '4',\n",
              " '4',\n",
              " '2 4',\n",
              " '6',\n",
              " '4',\n",
              " '8',\n",
              " '9',\n",
              " '4',\n",
              " '6',\n",
              " '',\n",
              " '8',\n",
              " '2',\n",
              " '0 4',\n",
              " '4 6',\n",
              " '1',\n",
              " '9',\n",
              " '3',\n",
              " '4',\n",
              " '9',\n",
              " '7',\n",
              " '3',\n",
              " '2',\n",
              " '3',\n",
              " '0 4',\n",
              " '4',\n",
              " '2 4',\n",
              " '4',\n",
              " '2 4 6',\n",
              " '4',\n",
              " '2 4',\n",
              " '1',\n",
              " '6 9',\n",
              " '2 4',\n",
              " '6 9',\n",
              " '9',\n",
              " '2 4 6',\n",
              " '',\n",
              " '9',\n",
              " '6',\n",
              " '2 4 7',\n",
              " '4',\n",
              " '4',\n",
              " '2',\n",
              " '2 4',\n",
              " '6',\n",
              " '6',\n",
              " '1',\n",
              " '0',\n",
              " '4',\n",
              " '4',\n",
              " '2 4',\n",
              " '2 4',\n",
              " '9',\n",
              " '9',\n",
              " '4 9',\n",
              " '4',\n",
              " '5 6',\n",
              " '4 6',\n",
              " '6',\n",
              " '4 6',\n",
              " '6',\n",
              " '4',\n",
              " '0',\n",
              " '3 4',\n",
              " '0',\n",
              " '6',\n",
              " '3',\n",
              " '1 3',\n",
              " '7',\n",
              " '4 8',\n",
              " '0 4',\n",
              " '3 4',\n",
              " '',\n",
              " '3 4',\n",
              " '4',\n",
              " '7',\n",
              " '0',\n",
              " '4 5',\n",
              " '6',\n",
              " '2 6',\n",
              " '4',\n",
              " '2 7',\n",
              " '4',\n",
              " '6',\n",
              " '7 9',\n",
              " '6',\n",
              " '0',\n",
              " '2 4',\n",
              " '1',\n",
              " '3',\n",
              " '9',\n",
              " '6',\n",
              " '4 9',\n",
              " '2 6',\n",
              " '9',\n",
              " '9',\n",
              " '0',\n",
              " '9',\n",
              " '2',\n",
              " '4',\n",
              " '6 8',\n",
              " '4',\n",
              " '4 6 8',\n",
              " '0 2',\n",
              " '0',\n",
              " '6',\n",
              " '0',\n",
              " '4',\n",
              " '0',\n",
              " '3 9',\n",
              " '3',\n",
              " '2',\n",
              " '6',\n",
              " '4',\n",
              " '2 4',\n",
              " '0',\n",
              " '6',\n",
              " '2 7',\n",
              " '4 5',\n",
              " '4',\n",
              " '4 6',\n",
              " '6',\n",
              " '2 4',\n",
              " '9',\n",
              " '4 8',\n",
              " '0',\n",
              " '7',\n",
              " '2 3',\n",
              " '2 4',\n",
              " '1',\n",
              " '0 4',\n",
              " '3 4',\n",
              " '5 6',\n",
              " '2 6',\n",
              " '0 9',\n",
              " '1',\n",
              " '2',\n",
              " '3 4',\n",
              " '4 5',\n",
              " '1 4',\n",
              " '',\n",
              " '4 6',\n",
              " '4',\n",
              " '4',\n",
              " '4',\n",
              " '6 8',\n",
              " '4',\n",
              " '2 4',\n",
              " '2 4',\n",
              " '4',\n",
              " '1 4',\n",
              " '3',\n",
              " '0 4',\n",
              " '6',\n",
              " '4',\n",
              " '6 7',\n",
              " '1 6',\n",
              " '0 4',\n",
              " '6',\n",
              " '3 4',\n",
              " '2',\n",
              " '4 6',\n",
              " '6',\n",
              " '2',\n",
              " '2 4',\n",
              " '4',\n",
              " '4 6',\n",
              " '7',\n",
              " '',\n",
              " '1 4',\n",
              " '4 6',\n",
              " '2 6',\n",
              " '6',\n",
              " '6',\n",
              " '4',\n",
              " '0',\n",
              " '6',\n",
              " '1 4',\n",
              " '',\n",
              " '1',\n",
              " '',\n",
              " '1 6',\n",
              " '4',\n",
              " '0',\n",
              " '3',\n",
              " '4',\n",
              " '4',\n",
              " '2 4',\n",
              " '3',\n",
              " '2 4 7',\n",
              " '2 4',\n",
              " '4 6',\n",
              " '4',\n",
              " '2',\n",
              " '2 4',\n",
              " '6',\n",
              " '4 7',\n",
              " '4 6',\n",
              " '4 8',\n",
              " '2 4',\n",
              " '6',\n",
              " '0',\n",
              " '4 7',\n",
              " '7',\n",
              " '2',\n",
              " '8',\n",
              " '3',\n",
              " '9',\n",
              " '4',\n",
              " '2 4',\n",
              " '6',\n",
              " '4',\n",
              " '9',\n",
              " '0',\n",
              " '2 4',\n",
              " '1',\n",
              " '6 9',\n",
              " '4 6',\n",
              " '4',\n",
              " '0',\n",
              " '9',\n",
              " '3',\n",
              " '2',\n",
              " '2',\n",
              " '0',\n",
              " '',\n",
              " '3 6',\n",
              " '4 6',\n",
              " '',\n",
              " '9',\n",
              " '3 6',\n",
              " '7',\n",
              " '4',\n",
              " '4 6',\n",
              " '4 6',\n",
              " '1',\n",
              " '2',\n",
              " '4 6',\n",
              " '0 4',\n",
              " '9',\n",
              " '4',\n",
              " '9',\n",
              " '4 5',\n",
              " '4 6',\n",
              " '5 6',\n",
              " '0 4',\n",
              " '4',\n",
              " '3 4',\n",
              " '9',\n",
              " '4',\n",
              " '6',\n",
              " '0',\n",
              " '2 4',\n",
              " '8',\n",
              " '4 6',\n",
              " '4 6',\n",
              " '0',\n",
              " '1',\n",
              " '2',\n",
              " '3 4',\n",
              " '1 4',\n",
              " '4',\n",
              " '9',\n",
              " '0',\n",
              " '4 6',\n",
              " '4',\n",
              " '4',\n",
              " '9',\n",
              " '4 6 7',\n",
              " '2 4',\n",
              " '3',\n",
              " '3 4',\n",
              " '0',\n",
              " '2',\n",
              " '0',\n",
              " '0',\n",
              " '7',\n",
              " '4 6',\n",
              " '4 6',\n",
              " '7',\n",
              " '2 4',\n",
              " '2 4',\n",
              " '7',\n",
              " '4',\n",
              " '4',\n",
              " '6',\n",
              " '8',\n",
              " '2 4',\n",
              " '4',\n",
              " '0',\n",
              " '2 4',\n",
              " '4',\n",
              " '3 4',\n",
              " '0',\n",
              " '3 4',\n",
              " '3',\n",
              " '4 6',\n",
              " '4 5',\n",
              " '0 2 4',\n",
              " '3',\n",
              " '0',\n",
              " '7',\n",
              " '6',\n",
              " '2',\n",
              " '4 6',\n",
              " '6 7',\n",
              " '3',\n",
              " '6',\n",
              " '3',\n",
              " '3',\n",
              " '4',\n",
              " '1',\n",
              " '4 6',\n",
              " '0',\n",
              " '6',\n",
              " '4',\n",
              " '5',\n",
              " '2 6',\n",
              " '4 6',\n",
              " '4 6',\n",
              " '2 4',\n",
              " '1 4',\n",
              " '2',\n",
              " '4 6',\n",
              " '1 4 6',\n",
              " '',\n",
              " '',\n",
              " '6',\n",
              " '1 4 6',\n",
              " '9',\n",
              " '9',\n",
              " '4',\n",
              " '0 4',\n",
              " '4 6 7',\n",
              " '8',\n",
              " '2',\n",
              " '7',\n",
              " '6',\n",
              " '1',\n",
              " '5',\n",
              " '4',\n",
              " '2 4',\n",
              " '4 6',\n",
              " '4',\n",
              " '4',\n",
              " '7',\n",
              " '2 7',\n",
              " '4 7',\n",
              " '7',\n",
              " '4 6',\n",
              " '7',\n",
              " '4 6',\n",
              " '3',\n",
              " '',\n",
              " '0',\n",
              " '4',\n",
              " '4 6',\n",
              " '2',\n",
              " '2 6',\n",
              " '7 9',\n",
              " '6',\n",
              " '4',\n",
              " '7',\n",
              " '1',\n",
              " '0',\n",
              " '6 7',\n",
              " '7',\n",
              " '4 6',\n",
              " '4',\n",
              " '4',\n",
              " '4',\n",
              " '3',\n",
              " '4 6',\n",
              " '8',\n",
              " '4',\n",
              " '3',\n",
              " '6',\n",
              " '7',\n",
              " '9',\n",
              " '9',\n",
              " '4 6',\n",
              " '7',\n",
              " '4',\n",
              " '0',\n",
              " '7',\n",
              " '4 6',\n",
              " '2 4',\n",
              " '9',\n",
              " '6',\n",
              " '3',\n",
              " '4 7',\n",
              " '3 6 7',\n",
              " '2 4',\n",
              " '4 6',\n",
              " '6',\n",
              " '6 7',\n",
              " '9',\n",
              " '4',\n",
              " '6 8',\n",
              " '4 7',\n",
              " '7',\n",
              " '2 4 6',\n",
              " '3',\n",
              " '4',\n",
              " '0',\n",
              " '4',\n",
              " '7',\n",
              " '9',\n",
              " '4 7',\n",
              " '6',\n",
              " '4 7',\n",
              " '0 4',\n",
              " '4 6',\n",
              " '7',\n",
              " '2 4',\n",
              " '4',\n",
              " '0',\n",
              " '0',\n",
              " '6',\n",
              " '9',\n",
              " '2 4 7',\n",
              " '1',\n",
              " '3',\n",
              " '1 4',\n",
              " '1',\n",
              " '6',\n",
              " '0',\n",
              " '8',\n",
              " '0',\n",
              " '5 6',\n",
              " '',\n",
              " '8',\n",
              " '3 4',\n",
              " '3',\n",
              " '4 6',\n",
              " '4',\n",
              " '3 4',\n",
              " '2 4',\n",
              " '3 4',\n",
              " '9',\n",
              " '4',\n",
              " '9',\n",
              " '7',\n",
              " '0 2 4',\n",
              " '2',\n",
              " '0 4',\n",
              " '4 6',\n",
              " '6',\n",
              " '0',\n",
              " '1',\n",
              " '4',\n",
              " '8',\n",
              " '4 5',\n",
              " '6',\n",
              " '9',\n",
              " '9',\n",
              " '4 6 7',\n",
              " '6',\n",
              " '5 6',\n",
              " '4',\n",
              " '7',\n",
              " '2 4',\n",
              " '6',\n",
              " '4',\n",
              " '2 4',\n",
              " '4 6',\n",
              " '4',\n",
              " '2',\n",
              " '',\n",
              " '0',\n",
              " '3 6',\n",
              " '7',\n",
              " '0 2',\n",
              " '4 5',\n",
              " '',\n",
              " '4 6',\n",
              " '3',\n",
              " '2 4 6',\n",
              " '',\n",
              " '2',\n",
              " '4 6',\n",
              " '3',\n",
              " '2',\n",
              " '6 7',\n",
              " '4 7',\n",
              " '4',\n",
              " '5',\n",
              " '3',\n",
              " '4',\n",
              " '',\n",
              " '2 4',\n",
              " '4 5 6',\n",
              " '3',\n",
              " '7',\n",
              " '1',\n",
              " '6',\n",
              " '7',\n",
              " '4 6',\n",
              " '6',\n",
              " '2 4 7',\n",
              " '7',\n",
              " '6',\n",
              " '1 7',\n",
              " '5',\n",
              " '0',\n",
              " '4 6',\n",
              " '5 6',\n",
              " '7',\n",
              " '5',\n",
              " '7',\n",
              " '4 8',\n",
              " '2',\n",
              " '0',\n",
              " '9',\n",
              " '4 5 8',\n",
              " '4',\n",
              " '4',\n",
              " '0',\n",
              " '7',\n",
              " '4 6',\n",
              " '9',\n",
              " '5',\n",
              " '0',\n",
              " '6',\n",
              " '6',\n",
              " '9',\n",
              " '4',\n",
              " '9',\n",
              " '0',\n",
              " '4 6',\n",
              " '1',\n",
              " '6',\n",
              " '4 6',\n",
              " '4',\n",
              " '3',\n",
              " '4 6',\n",
              " '',\n",
              " '4 6',\n",
              " '9',\n",
              " '4',\n",
              " '4',\n",
              " '4 6 7',\n",
              " '2',\n",
              " '2',\n",
              " '4 6',\n",
              " '9',\n",
              " '7',\n",
              " '4',\n",
              " '6',\n",
              " '4',\n",
              " '4 6',\n",
              " '4',\n",
              " '4',\n",
              " '2 4',\n",
              " '2 6',\n",
              " '3',\n",
              " '0',\n",
              " '4',\n",
              " '4',\n",
              " '3',\n",
              " '4',\n",
              " '4',\n",
              " '',\n",
              " '6',\n",
              " '4 7',\n",
              " '6',\n",
              " '4 7',\n",
              " '2 6',\n",
              " '',\n",
              " '2',\n",
              " '7',\n",
              " '4 6',\n",
              " '2 4',\n",
              " '6',\n",
              " '4 5 6',\n",
              " '4',\n",
              " '6',\n",
              " '4',\n",
              " '4',\n",
              " '6 9',\n",
              " '4 8',\n",
              " '2',\n",
              " '3 4',\n",
              " '2',\n",
              " '2 4',\n",
              " '0 4',\n",
              " '2 4 7',\n",
              " '2',\n",
              " '9',\n",
              " '4 6',\n",
              " '4 7',\n",
              " '0',\n",
              " '4 6 7',\n",
              " '6',\n",
              " '1 4 6',\n",
              " '4 8',\n",
              " '4',\n",
              " '4 9',\n",
              " '0',\n",
              " '4 6',\n",
              " '0',\n",
              " '0',\n",
              " '4',\n",
              " '0',\n",
              " '6 9',\n",
              " '0',\n",
              " '4',\n",
              " '3',\n",
              " '4 6',\n",
              " '0',\n",
              " '2',\n",
              " '4',\n",
              " '2 4',\n",
              " '3',\n",
              " '4 7',\n",
              " '7',\n",
              " '4',\n",
              " '7',\n",
              " '6 7',\n",
              " '4',\n",
              " '2 4',\n",
              " '0',\n",
              " '2',\n",
              " '3 4',\n",
              " '6',\n",
              " '1',\n",
              " '2',\n",
              " '1 4',\n",
              " '4 6',\n",
              " '3',\n",
              " '0',\n",
              " '4 7',\n",
              " '6',\n",
              " '2 4',\n",
              " '',\n",
              " '2 6',\n",
              " '4',\n",
              " '7',\n",
              " '6',\n",
              " '4 6',\n",
              " '3',\n",
              " '4',\n",
              " '1',\n",
              " '3',\n",
              " '4',\n",
              " '',\n",
              " '6',\n",
              " '4 5',\n",
              " '0',\n",
              " '4',\n",
              " '7',\n",
              " '2 4',\n",
              " '4 6',\n",
              " '5',\n",
              " '4 8',\n",
              " '5',\n",
              " '7',\n",
              " '2 6',\n",
              " '3',\n",
              " '9',\n",
              " '3',\n",
              " '',\n",
              " '2 4 6',\n",
              " '7',\n",
              " '1',\n",
              " '0',\n",
              " '4 6',\n",
              " '4',\n",
              " '2 4',\n",
              " '3 4',\n",
              " '4',\n",
              " '6',\n",
              " '3 4',\n",
              " '4',\n",
              " '6',\n",
              " '5',\n",
              " '3',\n",
              " '6',\n",
              " '2 4',\n",
              " '6',\n",
              " '7',\n",
              " '4 6 7',\n",
              " '4',\n",
              " '0',\n",
              " '4 6',\n",
              " '2 6',\n",
              " '4',\n",
              " '3',\n",
              " '0',\n",
              " '4 6',\n",
              " '2 4',\n",
              " '4',\n",
              " '0 3 4',\n",
              " '7',\n",
              " '0',\n",
              " '9',\n",
              " '4 6',\n",
              " '1',\n",
              " '4 6',\n",
              " '4 6',\n",
              " '4',\n",
              " '6',\n",
              " '6',\n",
              " '3',\n",
              " '5 6',\n",
              " '1',\n",
              " '6',\n",
              " '2 4 7 8',\n",
              " '4 6',\n",
              " '9',\n",
              " '2',\n",
              " '3',\n",
              " '0',\n",
              " '4',\n",
              " '5 6',\n",
              " '4 6',\n",
              " '6',\n",
              " '0',\n",
              " '3',\n",
              " '2 4 7',\n",
              " '5',\n",
              " '4 6',\n",
              " '6 7',\n",
              " '',\n",
              " '9',\n",
              " '4 6',\n",
              " '4 5',\n",
              " '0',\n",
              " '2 6',\n",
              " '4 7',\n",
              " '4 6',\n",
              " '4 6 7',\n",
              " '9',\n",
              " '1 4',\n",
              " '',\n",
              " '3',\n",
              " '3',\n",
              " '6',\n",
              " '8',\n",
              " '4 8',\n",
              " '9',\n",
              " '4',\n",
              " '3',\n",
              " '4 6',\n",
              " '2 4 7',\n",
              " '4 8',\n",
              " '6',\n",
              " '3 4',\n",
              " '9',\n",
              " '2',\n",
              " '9',\n",
              " '4 7',\n",
              " '4 9',\n",
              " '4 6',\n",
              " '9',\n",
              " '4 7',\n",
              " '4 5',\n",
              " '4 6',\n",
              " '4',\n",
              " '6 7',\n",
              " '4 6',\n",
              " '4 6',\n",
              " '4',\n",
              " '0 6',\n",
              " '9',\n",
              " '7',\n",
              " '9',\n",
              " '4 7',\n",
              " '2',\n",
              " '2',\n",
              " '1',\n",
              " '4',\n",
              " '2 4',\n",
              " '6',\n",
              " '7',\n",
              " '4 6',\n",
              " '7',\n",
              " '4',\n",
              " '4',\n",
              " '5',\n",
              " '9',\n",
              " '3',\n",
              " '4 7',\n",
              " ...]"
            ]
          },
          "metadata": {
            "tags": []
          },
          "execution_count": 80
        }
      ]
    },
    {
      "cell_type": "code",
      "metadata": {
        "id": "5kTfPwNWqyPb",
        "colab_type": "code",
        "colab": {}
      },
      "source": [
        "sub_df = pd.read_csv(TEST_CSV)"
      ],
      "execution_count": null,
      "outputs": []
    },
    {
      "cell_type": "code",
      "metadata": {
        "id": "3cy1SxibqyPg",
        "colab_type": "code",
        "colab": {},
        "outputId": "41fe8ccc-0ca2-4281-e67c-c0bc4f94cbce"
      },
      "source": [
        "sub_df.head()"
      ],
      "execution_count": null,
      "outputs": [
        {
          "output_type": "execute_result",
          "data": {
            "text/html": [
              "<div>\n",
              "<style scoped>\n",
              "    .dataframe tbody tr th:only-of-type {\n",
              "        vertical-align: middle;\n",
              "    }\n",
              "\n",
              "    .dataframe tbody tr th {\n",
              "        vertical-align: top;\n",
              "    }\n",
              "\n",
              "    .dataframe thead th {\n",
              "        text-align: right;\n",
              "    }\n",
              "</style>\n",
              "<table border=\"1\" class=\"dataframe\">\n",
              "  <thead>\n",
              "    <tr style=\"text-align: right;\">\n",
              "      <th></th>\n",
              "      <th>Image</th>\n",
              "      <th>Label</th>\n",
              "    </tr>\n",
              "  </thead>\n",
              "  <tbody>\n",
              "    <tr>\n",
              "      <th>0</th>\n",
              "      <td>24117</td>\n",
              "      <td>0</td>\n",
              "    </tr>\n",
              "    <tr>\n",
              "      <th>1</th>\n",
              "      <td>15322</td>\n",
              "      <td>0</td>\n",
              "    </tr>\n",
              "    <tr>\n",
              "      <th>2</th>\n",
              "      <td>14546</td>\n",
              "      <td>0</td>\n",
              "    </tr>\n",
              "    <tr>\n",
              "      <th>3</th>\n",
              "      <td>8079</td>\n",
              "      <td>0</td>\n",
              "    </tr>\n",
              "    <tr>\n",
              "      <th>4</th>\n",
              "      <td>13192</td>\n",
              "      <td>0</td>\n",
              "    </tr>\n",
              "  </tbody>\n",
              "</table>\n",
              "</div>"
            ],
            "text/plain": [
              "   Image  Label\n",
              "0  24117      0\n",
              "1  15322      0\n",
              "2  14546      0\n",
              "3   8079      0\n",
              "4  13192      0"
            ]
          },
          "metadata": {
            "tags": []
          },
          "execution_count": 82
        }
      ]
    },
    {
      "cell_type": "code",
      "metadata": {
        "id": "Amd7htByqyPi",
        "colab_type": "code",
        "colab": {}
      },
      "source": [
        "sub_df['Label'] = preds"
      ],
      "execution_count": null,
      "outputs": []
    },
    {
      "cell_type": "code",
      "metadata": {
        "id": "R2g9PP5TqyPl",
        "colab_type": "code",
        "colab": {},
        "outputId": "93883b69-1949-48b9-eb00-31d0aef8d70d"
      },
      "source": [
        "sub_df.head()"
      ],
      "execution_count": null,
      "outputs": [
        {
          "output_type": "execute_result",
          "data": {
            "text/html": [
              "<div>\n",
              "<style scoped>\n",
              "    .dataframe tbody tr th:only-of-type {\n",
              "        vertical-align: middle;\n",
              "    }\n",
              "\n",
              "    .dataframe tbody tr th {\n",
              "        vertical-align: top;\n",
              "    }\n",
              "\n",
              "    .dataframe thead th {\n",
              "        text-align: right;\n",
              "    }\n",
              "</style>\n",
              "<table border=\"1\" class=\"dataframe\">\n",
              "  <thead>\n",
              "    <tr style=\"text-align: right;\">\n",
              "      <th></th>\n",
              "      <th>Image</th>\n",
              "      <th>Label</th>\n",
              "    </tr>\n",
              "  </thead>\n",
              "  <tbody>\n",
              "    <tr>\n",
              "      <th>0</th>\n",
              "      <td>24117</td>\n",
              "      <td>4 8 9</td>\n",
              "    </tr>\n",
              "    <tr>\n",
              "      <th>1</th>\n",
              "      <td>15322</td>\n",
              "      <td>4</td>\n",
              "    </tr>\n",
              "    <tr>\n",
              "      <th>2</th>\n",
              "      <td>14546</td>\n",
              "      <td>6</td>\n",
              "    </tr>\n",
              "    <tr>\n",
              "      <th>3</th>\n",
              "      <td>8079</td>\n",
              "      <td>3 6</td>\n",
              "    </tr>\n",
              "    <tr>\n",
              "      <th>4</th>\n",
              "      <td>13192</td>\n",
              "      <td>3 4</td>\n",
              "    </tr>\n",
              "  </tbody>\n",
              "</table>\n",
              "</div>"
            ],
            "text/plain": [
              "   Image  Label\n",
              "0  24117  4 8 9\n",
              "1  15322      4\n",
              "2  14546      6\n",
              "3   8079    3 6\n",
              "4  13192    3 4"
            ]
          },
          "metadata": {
            "tags": []
          },
          "execution_count": 84
        }
      ]
    },
    {
      "cell_type": "code",
      "metadata": {
        "id": "c8oLT_hWqyPr",
        "colab_type": "code",
        "colab": {}
      },
      "source": [
        "sub_df.to_csv('submission.csv', index=False)"
      ],
      "execution_count": null,
      "outputs": []
    }
  ]
}